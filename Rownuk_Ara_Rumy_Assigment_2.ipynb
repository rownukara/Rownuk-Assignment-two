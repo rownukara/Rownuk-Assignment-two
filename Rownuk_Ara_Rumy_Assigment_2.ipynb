{
  "nbformat": 4,
  "nbformat_minor": 0,
  "metadata": {
    "colab": {
      "provenance": []
    },
    "kernelspec": {
      "name": "python3",
      "display_name": "Python 3"
    },
    "language_info": {
      "name": "python"
    }
  },
  "cells": [
    {
      "cell_type": "code",
      "execution_count": 1,
      "metadata": {
        "colab": {
          "base_uri": "https://localhost:8080/"
        },
        "id": "XVC9uhrnAuC2",
        "outputId": "b8b0cb83-1a3c-4403-bc18-f110bf7734f4"
      },
      "outputs": [
        {
          "output_type": "stream",
          "name": "stdout",
          "text": [
            "x: 10 y: 5\n"
          ]
        }
      ],
      "source": [
        "# 1. Variable Swap: Swap the values of two variables without using a temporary variable.\n",
        "x = 5\n",
        "y = 10\n",
        "x, y = y, x\n",
        "print(\"x:\", x, \"y:\", y)"
      ]
    },
    {
      "cell_type": "code",
      "source": [
        "# 2. Even or Odd: Check if an integer is even or odd.\n",
        "num = int(input(\"Enter a number: \"))\n",
        "if num % 2 == 0:\n",
        "    print(\"Even\")\n",
        "else:\n",
        "    print(\"Odd\")"
      ],
      "metadata": {
        "colab": {
          "base_uri": "https://localhost:8080/"
        },
        "id": "Hpsl6bSOBvRM",
        "outputId": "48b61a50-2c14-4243-ee2f-60894a9b8e17"
      },
      "execution_count": 2,
      "outputs": [
        {
          "output_type": "stream",
          "name": "stdout",
          "text": [
            "Enter a number: 34\n",
            "Even\n"
          ]
        }
      ]
    },
    {
      "cell_type": "code",
      "source": [
        "# 3. String Reverse: Reverse a given string.\n",
        "def reverse_string(s):\n",
        "    return s[::-1]\n",
        "\n",
        "print(reverse_string(\"hello\"))"
      ],
      "metadata": {
        "colab": {
          "base_uri": "https://localhost:8080/"
        },
        "id": "IHj0QPSABx-v",
        "outputId": "799828fe-38e1-480c-d2cf-ffca53992bdb"
      },
      "execution_count": 3,
      "outputs": [
        {
          "output_type": "stream",
          "name": "stdout",
          "text": [
            "olleh\n"
          ]
        }
      ]
    },
    {
      "cell_type": "code",
      "source": [
        "# 4. Type Conversion: Convert each element of the list of integers to a string.\n",
        "nums = [1, 2, 3, 4]\n",
        "str_nums = [str(num) for num in nums]\n",
        "print(str_nums)"
      ],
      "metadata": {
        "colab": {
          "base_uri": "https://localhost:8080/"
        },
        "id": "hiLkTlh0B056",
        "outputId": "c087bdd6-95a9-4b22-eaac-dd1596de3280"
      },
      "execution_count": 4,
      "outputs": [
        {
          "output_type": "stream",
          "name": "stdout",
          "text": [
            "['1', '2', '3', '4']\n"
          ]
        }
      ]
    },
    {
      "cell_type": "code",
      "source": [
        "# 5. Temperature Converter: Convert Celsius to Fahrenheit.\n",
        "celsius = float(input(\"Enter temperature in Celsius: \"))\n",
        "fahrenheit = (celsius * 9/5) + 32\n",
        "print(f\"Temperature in Fahrenheit: {fahrenheit}\")"
      ],
      "metadata": {
        "colab": {
          "base_uri": "https://localhost:8080/"
        },
        "id": "8oGSAikUB08S",
        "outputId": "4483ac61-74c4-4431-9024-786f73184fcc"
      },
      "execution_count": 5,
      "outputs": [
        {
          "output_type": "stream",
          "name": "stdout",
          "text": [
            "Enter temperature in Celsius: 45\n",
            "Temperature in Fahrenheit: 113.0\n"
          ]
        }
      ]
    },
    {
      "cell_type": "code",
      "source": [
        "# 6. Data Type Checker: Return the data type of a variable as a string.\n",
        "def check_type(var):\n",
        "    return str(type(var))\n",
        "\n",
        "print(check_type(10))\n",
        "print(check_type(\"Hello\"))"
      ],
      "metadata": {
        "colab": {
          "base_uri": "https://localhost:8080/"
        },
        "id": "G4e_IJ_bB0_w",
        "outputId": "3be6622b-fdf5-464b-c35b-4d7041e8d603"
      },
      "execution_count": 6,
      "outputs": [
        {
          "output_type": "stream",
          "name": "stdout",
          "text": [
            "<class 'int'>\n",
            "<class 'str'>\n"
          ]
        }
      ]
    },
    {
      "cell_type": "code",
      "source": [
        "# 7. String Length: Print the length of a given string.\n",
        "def string_length(s):\n",
        "    return len(s)\n",
        "\n",
        "print(string_length(\"Hello, World!\"))"
      ],
      "metadata": {
        "colab": {
          "base_uri": "https://localhost:8080/"
        },
        "id": "1WJR_Q4WB9yi",
        "outputId": "72adae6f-92a1-4a9a-d68f-97cfc0916d5a"
      },
      "execution_count": 7,
      "outputs": [
        {
          "output_type": "stream",
          "name": "stdout",
          "text": [
            "13\n"
          ]
        }
      ]
    },
    {
      "cell_type": "code",
      "source": [
        "# 8. Palindrome Checker: Check if a string is a palindrome.\n",
        "def is_palindrome(s):\n",
        "    return s == s[::-1]\n",
        "\n",
        "print(is_palindrome(\"madam\"))"
      ],
      "metadata": {
        "colab": {
          "base_uri": "https://localhost:8080/"
        },
        "id": "lBJA7EKtCAl7",
        "outputId": "cf741db8-0a3d-4268-8492-dfa637e79fec"
      },
      "execution_count": 8,
      "outputs": [
        {
          "output_type": "stream",
          "name": "stdout",
          "text": [
            "True\n"
          ]
        }
      ]
    },
    {
      "cell_type": "code",
      "source": [
        "# 9. Factorial: Calculate the factorial of a given number.\n",
        "def factorial(n):\n",
        "    if n == 0 or n == 1:\n",
        "        return 1\n",
        "    else:\n",
        "        return n * factorial(n-1)\n",
        "\n",
        "print(factorial(5))"
      ],
      "metadata": {
        "colab": {
          "base_uri": "https://localhost:8080/"
        },
        "id": "JprL6JB_CC1z",
        "outputId": "d2a3db5b-b819-43c7-bf06-80d451142234"
      },
      "execution_count": 9,
      "outputs": [
        {
          "output_type": "stream",
          "name": "stdout",
          "text": [
            "120\n"
          ]
        }
      ]
    },
    {
      "cell_type": "code",
      "source": [
        "# 10. Fibonacci Sequence: Print the Fibonacci sequence up to n numbers.\n",
        "def fibonacci(n):\n",
        "    fib_seq = [0, 1]\n",
        "    for i in range(2, n):\n",
        "        fib_seq.append(fib_seq[i-1] + fib_seq[i-2])\n",
        "    return fib_seq\n",
        "\n",
        "print(fibonacci(10))\n"
      ],
      "metadata": {
        "colab": {
          "base_uri": "https://localhost:8080/"
        },
        "id": "BBKvbKUlCFz4",
        "outputId": "5228a073-b78e-4c04-d0ed-b8be7649105f"
      },
      "execution_count": 10,
      "outputs": [
        {
          "output_type": "stream",
          "name": "stdout",
          "text": [
            "[0, 1, 1, 2, 3, 5, 8, 13, 21, 34]\n"
          ]
        }
      ]
    },
    {
      "cell_type": "code",
      "source": [
        "# 11. Positive, Negative, or Zero:\n",
        "num = float(input(\"Enter a number: \"))\n",
        "if num > 0:\n",
        "    print(\"Positive\")\n",
        "elif num < 0:\n",
        "    print(\"Negative\")\n",
        "else:\n",
        "    print(\"Zero\")"
      ],
      "metadata": {
        "colab": {
          "base_uri": "https://localhost:8080/"
        },
        "id": "F7UT_7LgCU0i",
        "outputId": "c463b4a5-2c39-4dd0-b886-c696bc32eb54"
      },
      "execution_count": 11,
      "outputs": [
        {
          "output_type": "stream",
          "name": "stdout",
          "text": [
            "Enter a number: -45\n",
            "Negative\n"
          ]
        }
      ]
    },
    {
      "cell_type": "code",
      "source": [
        "# 12. Largest of Three Numbers:\n",
        "a = float(input(\"Enter first number: \"))\n",
        "b = float(input(\"Enter second number: \"))\n",
        "c = float(input(\"Enter third number: \"))\n",
        "largest = max(a, b, c)\n",
        "print(\"The largest number is:\", largest)"
      ],
      "metadata": {
        "colab": {
          "base_uri": "https://localhost:8080/"
        },
        "id": "osc9JkYNCU25",
        "outputId": "3ea457ac-2e57-430e-c7f7-7955329390b2"
      },
      "execution_count": 12,
      "outputs": [
        {
          "output_type": "stream",
          "name": "stdout",
          "text": [
            "Enter first number: 34\n",
            "Enter second number: 56\n",
            "Enter third number: 12\n",
            "The largest number is: 56.0\n"
          ]
        }
      ]
    },
    {
      "cell_type": "code",
      "source": [
        "# 14. Grades Classification:\n",
        "percentage = float(input(\"Enter the student's percentage: \"))\n",
        "if percentage >= 90:\n",
        "    print(\"Grade: A+\")\n",
        "elif percentage >= 80:\n",
        "    print(\"Grade: A\")\n",
        "elif percentage >= 70:\n",
        "    print(\"Grade: B\")\n",
        "elif percentage >= 60:\n",
        "    print(\"Grade: C\")\n",
        "else:\n",
        "    print(\"Fail\")\n"
      ],
      "metadata": {
        "colab": {
          "base_uri": "https://localhost:8080/"
        },
        "id": "Urul9XqTCU5y",
        "outputId": "67491c28-aa1c-4d5c-ef3e-3b3562d39b1c"
      },
      "execution_count": 13,
      "outputs": [
        {
          "output_type": "stream",
          "name": "stdout",
          "text": [
            "Enter the student's percentage: 46\n",
            "Fail\n"
          ]
        }
      ]
    },
    {
      "cell_type": "code",
      "source": [
        "# 15. Vowel or Consonant:\n",
        "char = input(\"Enter a single character: \").lower()\n",
        "if char in 'aeiou':\n",
        "    print(f\"{char} is a vowel.\")\n",
        "else:\n",
        "    print(f\"{char} is a consonant.\")\n"
      ],
      "metadata": {
        "colab": {
          "base_uri": "https://localhost:8080/"
        },
        "id": "K0m33S-HCU86",
        "outputId": "9df76e56-b651-4435-b2d2-d1c2d31e5917"
      },
      "execution_count": 14,
      "outputs": [
        {
          "output_type": "stream",
          "name": "stdout",
          "text": [
            "Enter a single character: e\n",
            "e is a vowel.\n"
          ]
        }
      ]
    },
    {
      "cell_type": "code",
      "source": [
        "# 16. Time Classification:\n",
        "hour = int(input(\"Enter the time in hours (24-hour format): \"))\n",
        "if 5 <= hour < 12:\n",
        "    print(\"Good Morning\")\n",
        "elif 12 <= hour < 17:\n",
        "    print(\"Good Afternoon\")\n",
        "elif 17 <= hour < 21:\n",
        "    print(\"Good Evening\")\n",
        "else:\n",
        "    print(\"Good Night\")"
      ],
      "metadata": {
        "colab": {
          "base_uri": "https://localhost:8080/"
        },
        "id": "2HN-7U1WCU_S",
        "outputId": "d8e58176-b677-48b2-9c01-ef82f79a0256"
      },
      "execution_count": 15,
      "outputs": [
        {
          "output_type": "stream",
          "name": "stdout",
          "text": [
            "Enter the time in hours (24-hour format): 11\n",
            "Good Morning\n"
          ]
        }
      ]
    },
    {
      "cell_type": "code",
      "source": [
        "# 17. Triangle Type Checker:\n",
        "a = float(input(\"Enter side 1 of the triangle: \"))\n",
        "b = float(input(\"Enter side 2 of the triangle: \"))\n",
        "c = float(input(\"Enter side 3 of the triangle: \"))\n",
        "if a == b == c:\n",
        "    print(\"Equilateral triangle\")\n",
        "elif a == b or b == c or a == c:\n",
        "    print(\"Isosceles triangle\")\n",
        "else:\n",
        "    print(\"Scalene triangle\")\n"
      ],
      "metadata": {
        "colab": {
          "base_uri": "https://localhost:8080/"
        },
        "id": "_MG05p7iCVBf",
        "outputId": "c892ec70-3d28-493d-8ce8-54d45152d342"
      },
      "execution_count": 16,
      "outputs": [
        {
          "output_type": "stream",
          "name": "stdout",
          "text": [
            "Enter side 1 of the triangle: 5.5\n",
            "Enter side 2 of the triangle: 5.3\n",
            "Enter side 3 of the triangle: 4\n",
            "Scalene triangle\n"
          ]
        }
      ]
    },
    {
      "cell_type": "code",
      "source": [
        "# 18. Quadratic Equation Solver:\n",
        "import math\n",
        "\n",
        "a = float(input(\"Enter coefficient a: \"))\n",
        "b = float(input(\"Enter coefficient b: \"))\n",
        "c = float(input(\"Enter coefficient c: \"))\n",
        "\n",
        "discriminant = b**2 - 4*a*c\n",
        "\n",
        "if discriminant > 0:\n",
        "    root1 = (-b + math.sqrt(discriminant)) / (2*a)\n",
        "    root2 = (-b - math.sqrt(discriminant)) / (2*a)\n",
        "    print(f\"Real and different roots: {root1} and {root2}\")\n",
        "elif discriminant == 0:\n",
        "    root = -b / (2*a)\n",
        "    print(f\"Real and same root: {root}\")\n",
        "else:\n",
        "    real_part = -b / (2*a)\n",
        "    imaginary_part = math.sqrt(abs(discriminant)) / (2*a)\n",
        "    print(f\"Complex roots: {real_part} + {imaginary_part}i and {real_part} - {imaginary_part}i\")\n"
      ],
      "metadata": {
        "colab": {
          "base_uri": "https://localhost:8080/"
        },
        "id": "wWPnzETfCVFK",
        "outputId": "f72d3976-ae2d-4043-b0b4-1b42d93612e1"
      },
      "execution_count": 17,
      "outputs": [
        {
          "output_type": "stream",
          "name": "stdout",
          "text": [
            "Enter coefficient a: 5.5\n",
            "Enter coefficient b: 6.5\n",
            "Enter coefficient c: 4.6\n",
            "Complex roots: -0.5909090909090909 + 0.6979900304765305i and -0.5909090909090909 - 0.6979900304765305i\n"
          ]
        }
      ]
    },
    {
      "cell_type": "code",
      "source": [
        "# 19. Number Ranges:\n",
        "num = int(input(\"Enter a number: \"))\n",
        "if 0 <= num <= 50:\n",
        "    print(\"Number is in the range 0-50.\")\n",
        "elif 51 <= num <= 100:\n",
        "    print(\"Number is in the range 51-100.\")\n",
        "elif 101 <= num <= 150:\n",
        "    print(\"Number is in the range 101-150.\")\n",
        "else:\n",
        "    print(\"Number is above 150.\")\n"
      ],
      "metadata": {
        "colab": {
          "base_uri": "https://localhost:8080/"
        },
        "id": "Hw_My7H7DQjM",
        "outputId": "2384aa14-0c9c-435e-841b-d65eb53e8f64"
      },
      "execution_count": 18,
      "outputs": [
        {
          "output_type": "stream",
          "name": "stdout",
          "text": [
            "Enter a number: 49\n",
            "Number is in the range 0-50.\n"
          ]
        }
      ]
    },
    {
      "cell_type": "code",
      "source": [
        "# 20. Sum of N Numbers:\n",
        "N = int(input(\"Enter a number: \"))\n",
        "sum_numbers = 0\n",
        "for i in range(1, N+1):\n",
        "    sum_numbers += i\n",
        "print(\"Sum of first\", N, \"natural numbers is:\", sum_numbers)"
      ],
      "metadata": {
        "colab": {
          "base_uri": "https://localhost:8080/"
        },
        "id": "lpHZU_WzDY30",
        "outputId": "80481658-2791-43d6-8f92-a82a9fadc115"
      },
      "execution_count": 19,
      "outputs": [
        {
          "output_type": "stream",
          "name": "stdout",
          "text": [
            "Enter a number: 44\n",
            "Sum of first 44 natural numbers is: 990\n"
          ]
        }
      ]
    },
    {
      "cell_type": "code",
      "source": [
        "# 21. Factorial Calculator:\n",
        "N = int(input(\"Enter a number: \"))\n",
        "factorial = 1\n",
        "while N > 0:\n",
        "    factorial *= N\n",
        "    N -= 1\n",
        "print(\"Factorial is:\", factorial)"
      ],
      "metadata": {
        "colab": {
          "base_uri": "https://localhost:8080/"
        },
        "id": "fMvU2atgDZBb",
        "outputId": "75323bce-0da0-4bdc-c2c9-057ce73a2ad1"
      },
      "execution_count": 20,
      "outputs": [
        {
          "output_type": "stream",
          "name": "stdout",
          "text": [
            "Enter a number: 34\n",
            "Factorial is: 295232799039604140847618609643520000000\n"
          ]
        }
      ]
    },
    {
      "cell_type": "code",
      "source": [
        "# 22. Table of a Number:\n",
        "N = int(input(\"Enter a number: \"))\n",
        "for i in range(1, 11):\n",
        "    print(f\"{N} x {i} = {N*i}\")"
      ],
      "metadata": {
        "colab": {
          "base_uri": "https://localhost:8080/"
        },
        "id": "X2o3u8zTDZGD",
        "outputId": "9fd60c77-28b0-449e-b483-50301b4a9cc0"
      },
      "execution_count": 21,
      "outputs": [
        {
          "output_type": "stream",
          "name": "stdout",
          "text": [
            "Enter a number: 32\n",
            "32 x 1 = 32\n",
            "32 x 2 = 64\n",
            "32 x 3 = 96\n",
            "32 x 4 = 128\n",
            "32 x 5 = 160\n",
            "32 x 6 = 192\n",
            "32 x 7 = 224\n",
            "32 x 8 = 256\n",
            "32 x 9 = 288\n",
            "32 x 10 = 320\n"
          ]
        }
      ]
    },
    {
      "cell_type": "code",
      "source": [
        "# 23. Count Digits in a Number:\n",
        "N = int(input(\"Enter a number: \"))\n",
        "count = 0\n",
        "while N != 0:\n",
        "    N //= 10\n",
        "    count += 1\n",
        "print(\"Number of digits:\", count)"
      ],
      "metadata": {
        "colab": {
          "base_uri": "https://localhost:8080/"
        },
        "id": "WoQr_6O-DZJT",
        "outputId": "a27840fd-25a5-43e6-cb09-645dc58d8db2"
      },
      "execution_count": 22,
      "outputs": [
        {
          "output_type": "stream",
          "name": "stdout",
          "text": [
            "Enter a number: 20\n",
            "Number of digits: 2\n"
          ]
        }
      ]
    },
    {
      "cell_type": "code",
      "source": [
        "# 24. Fibonacci Sequence:\n",
        "N = int(input(\"Enter the limit for Fibonacci sequence: \"))\n",
        "a, b = 0, 1\n",
        "for i in range(N):\n",
        "    print(a, end=\" \")\n",
        "    a, b = b, a + b"
      ],
      "metadata": {
        "colab": {
          "base_uri": "https://localhost:8080/"
        },
        "id": "qzBbT8aRDZMo",
        "outputId": "0d2cc434-a7d2-4704-f3e5-8375e378adbb"
      },
      "execution_count": 23,
      "outputs": [
        {
          "output_type": "stream",
          "name": "stdout",
          "text": [
            "Enter the limit for Fibonacci sequence: 234\n",
            "0 1 1 2 3 5 8 13 21 34 55 89 144 233 377 610 987 1597 2584 4181 6765 10946 17711 28657 46368 75025 121393 196418 317811 514229 832040 1346269 2178309 3524578 5702887 9227465 14930352 24157817 39088169 63245986 102334155 165580141 267914296 433494437 701408733 1134903170 1836311903 2971215073 4807526976 7778742049 12586269025 20365011074 32951280099 53316291173 86267571272 139583862445 225851433717 365435296162 591286729879 956722026041 1548008755920 2504730781961 4052739537881 6557470319842 10610209857723 17167680177565 27777890035288 44945570212853 72723460248141 117669030460994 190392490709135 308061521170129 498454011879264 806515533049393 1304969544928657 2111485077978050 3416454622906707 5527939700884757 8944394323791464 14472334024676221 23416728348467685 37889062373143906 61305790721611591 99194853094755497 160500643816367088 259695496911122585 420196140727489673 679891637638612258 1100087778366101931 1779979416004714189 2880067194370816120 4660046610375530309 7540113804746346429 12200160415121876738 19740274219868223167 31940434634990099905 51680708854858323072 83621143489848422977 135301852344706746049 218922995834555169026 354224848179261915075 573147844013817084101 927372692193078999176 1500520536206896083277 2427893228399975082453 3928413764606871165730 6356306993006846248183 10284720757613717413913 16641027750620563662096 26925748508234281076009 43566776258854844738105 70492524767089125814114 114059301025943970552219 184551825793033096366333 298611126818977066918552 483162952612010163284885 781774079430987230203437 1264937032042997393488322 2046711111473984623691759 3311648143516982017180081 5358359254990966640871840 8670007398507948658051921 14028366653498915298923761 22698374052006863956975682 36726740705505779255899443 59425114757512643212875125 96151855463018422468774568 155576970220531065681649693 251728825683549488150424261 407305795904080553832073954 659034621587630041982498215 1066340417491710595814572169 1725375039079340637797070384 2791715456571051233611642553 4517090495650391871408712937 7308805952221443105020355490 11825896447871834976429068427 19134702400093278081449423917 30960598847965113057878492344 50095301248058391139327916261 81055900096023504197206408605 131151201344081895336534324866 212207101440105399533740733471 343358302784187294870275058337 555565404224292694404015791808 898923707008479989274290850145 1454489111232772683678306641953 2353412818241252672952597492098 3807901929474025356630904134051 6161314747715278029583501626149 9969216677189303386214405760200 16130531424904581415797907386349 26099748102093884802012313146549 42230279526998466217810220532898 68330027629092351019822533679447 110560307156090817237632754212345 178890334785183168257455287891792 289450641941273985495088042104137 468340976726457153752543329995929 757791618667731139247631372100066 1226132595394188293000174702095995 1983924214061919432247806074196061 3210056809456107725247980776292056 5193981023518027157495786850488117 8404037832974134882743767626780173 13598018856492162040239554477268290 22002056689466296922983322104048463 35600075545958458963222876581316753 57602132235424755886206198685365216 93202207781383214849429075266681969 150804340016807970735635273952047185 244006547798191185585064349218729154 394810887814999156320699623170776339 638817435613190341905763972389505493 1033628323428189498226463595560281832 1672445759041379840132227567949787325 2706074082469569338358691163510069157 4378519841510949178490918731459856482 7084593923980518516849609894969925639 11463113765491467695340528626429782121 18547707689471986212190138521399707760 30010821454963453907530667147829489881 48558529144435440119720805669229197641 78569350599398894027251472817058687522 127127879743834334146972278486287885163 205697230343233228174223751303346572685 332825110087067562321196029789634457848 538522340430300790495419781092981030533 871347450517368352816615810882615488381 1409869790947669143312035591975596518914 2281217241465037496128651402858212007295 3691087032412706639440686994833808526209 5972304273877744135569338397692020533504 9663391306290450775010025392525829059713 15635695580168194910579363790217849593217 25299086886458645685589389182743678652930 40934782466626840596168752972961528246147 66233869353085486281758142155705206899077 107168651819712326877926895128666735145224 173402521172797813159685037284371942044301 280571172992510140037611932413038677189525 453973694165307953197296969697410619233826 734544867157818093234908902110449296423351 1188518561323126046432205871807859915657177 1923063428480944139667114773918309212080528 3111581989804070186099320645726169127737705 5034645418285014325766435419644478339818233 8146227408089084511865756065370647467555938 13180872826374098837632191485015125807374171 21327100234463183349497947550385773274930109 34507973060837282187130139035400899082304280 55835073295300465536628086585786672357234389 90343046356137747723758225621187571439538669 146178119651438213260386312206974243796773058 236521166007575960984144537828161815236311727 382699285659014174244530850035136059033084785 619220451666590135228675387863297874269396512 1001919737325604309473206237898433933302481297 1621140188992194444701881625761731807571877809 2623059926317798754175087863660165740874359106 4244200115309993198876969489421897548446236915 6867260041627791953052057353082063289320596021 11111460156937785151929026842503960837766832936 17978720198565577104981084195586024127087428957 29090180355503362256910111038089984964854261893 47068900554068939361891195233676009091941690850 76159080909572301618801306271765994056795952743 123227981463641240980692501505442003148737643593 199387062373213542599493807777207997205533596336 322615043836854783580186309282650000354271239929 522002106210068326179680117059857997559804836265 844617150046923109759866426342507997914076076194 1366619256256991435939546543402365995473880912459 2211236406303914545699412969744873993387956988653 "
          ]
        }
      ]
    },
    {
      "cell_type": "code",
      "source": [
        "# 25. Sum of Even Numbers:\n",
        "N = int(input(\"Enter a number: \"))\n",
        "sum_even = 0\n",
        "i = 2\n",
        "while i <= N:\n",
        "    sum_even += i\n",
        "    i += 2\n",
        "print(\"Sum of even numbers:\", sum_even)"
      ],
      "metadata": {
        "colab": {
          "base_uri": "https://localhost:8080/"
        },
        "id": "ugsxaUQbDZQC",
        "outputId": "121bb0cf-f7ad-4044-baa6-34072de8f55f"
      },
      "execution_count": 24,
      "outputs": [
        {
          "output_type": "stream",
          "name": "stdout",
          "text": [
            "Enter a number: 34\n",
            "Sum of even numbers: 306\n"
          ]
        }
      ]
    },
    {
      "cell_type": "code",
      "source": [
        "# 26. Print Patterns:\n",
        "rows = int(input(\"Enter number of rows: \"))\n",
        "for i in range(1, rows + 1):\n",
        "    print('*' * i)\n",
        "for i in range(rows, 0, -1):\n",
        "    print('*' * i)\n"
      ],
      "metadata": {
        "colab": {
          "base_uri": "https://localhost:8080/"
        },
        "id": "QLR86yKjEP6i",
        "outputId": "6e4013f8-9ffc-4969-99a5-02c36e41f08b"
      },
      "execution_count": 25,
      "outputs": [
        {
          "output_type": "stream",
          "name": "stdout",
          "text": [
            "Enter number of rows: 4\n",
            "*\n",
            "**\n",
            "***\n",
            "****\n",
            "****\n",
            "***\n",
            "**\n",
            "*\n"
          ]
        }
      ]
    },
    {
      "cell_type": "code",
      "source": [
        "# 27. Prime Number Checker:\n",
        "N = int(input(\"Enter a number: \"))\n",
        "i = 2\n",
        "is_prime = True\n",
        "while i <= N // 2:\n",
        "    if N % i == 0:\n",
        "        is_prime = False\n",
        "        break\n",
        "    i += 1\n",
        "\n",
        "if is_prime and N > 1:\n",
        "    print(N, \"is a prime number.\")\n",
        "else:\n",
        "    print(N, \"is not a prime number.\")\n"
      ],
      "metadata": {
        "colab": {
          "base_uri": "https://localhost:8080/"
        },
        "id": "Vk64k-S9EQCt",
        "outputId": "6d53fa19-0f92-4881-9dab-f8428f472f36"
      },
      "execution_count": 26,
      "outputs": [
        {
          "output_type": "stream",
          "name": "stdout",
          "text": [
            "Enter a number: 6\n",
            "6 is not a prime number.\n"
          ]
        }
      ]
    },
    {
      "cell_type": "code",
      "source": [
        "# 28. List Manipulation:\n",
        "numbers = list(map(int, input(\"Enter a list of integers: \").split()))\n",
        "sum_numbers = sum(numbers)\n",
        "average = sum_numbers / len(numbers)\n",
        "max_num = max(numbers)\n",
        "min_num = min(numbers)\n",
        "\n",
        "print(\"Sum:\", sum_numbers)\n",
        "print(\"Average:\", average)\n",
        "print(\"Maximum:\", max_num)\n",
        "print(\"Minimum:\", min_num)"
      ],
      "metadata": {
        "colab": {
          "base_uri": "https://localhost:8080/"
        },
        "id": "1U3eihZTEQFq",
        "outputId": "3de66239-f133-46b9-8cb9-d4318b955ddb"
      },
      "execution_count": 27,
      "outputs": [
        {
          "output_type": "stream",
          "name": "stdout",
          "text": [
            "Enter a list of integers: 3 5 6 7 2 3 4 \n",
            "Sum: 30\n",
            "Average: 4.285714285714286\n",
            "Maximum: 7\n",
            "Minimum: 2\n"
          ]
        }
      ]
    },
    {
      "cell_type": "code",
      "source": [
        "# 29. Reverse String:\n",
        "string = input(\"Enter a string: \")\n",
        "reversed_string = \"\"\n",
        "index = len(string) - 1\n",
        "while index >= 0:\n",
        "    reversed_string += string[index]\n",
        "    index -= 1\n",
        "print(\"Reversed string:\", reversed_string)"
      ],
      "metadata": {
        "colab": {
          "base_uri": "https://localhost:8080/"
        },
        "id": "B_Ni0gDhEQII",
        "outputId": "fb3ca965-4678-4658-f931-bd927676db56"
      },
      "execution_count": 28,
      "outputs": [
        {
          "output_type": "stream",
          "name": "stdout",
          "text": [
            "Enter a string: hello rownuk\n",
            "Reversed string: kunwor olleh\n"
          ]
        }
      ]
    },
    {
      "cell_type": "code",
      "source": [
        "# 30. Multiplication Table:\n",
        "for i in range(1, 11):\n",
        "    for j in range(1, 11):\n",
        "        print(f\"{i} x {j} = {i*j}\", end=\"\\t\")\n",
        "    print()"
      ],
      "metadata": {
        "colab": {
          "base_uri": "https://localhost:8080/"
        },
        "id": "V7eJB3TZEQLk",
        "outputId": "9f2b58af-a861-4796-c54a-f331dcf7bcb7"
      },
      "execution_count": 29,
      "outputs": [
        {
          "output_type": "stream",
          "name": "stdout",
          "text": [
            "1 x 1 = 1\t1 x 2 = 2\t1 x 3 = 3\t1 x 4 = 4\t1 x 5 = 5\t1 x 6 = 6\t1 x 7 = 7\t1 x 8 = 8\t1 x 9 = 9\t1 x 10 = 10\t\n",
            "2 x 1 = 2\t2 x 2 = 4\t2 x 3 = 6\t2 x 4 = 8\t2 x 5 = 10\t2 x 6 = 12\t2 x 7 = 14\t2 x 8 = 16\t2 x 9 = 18\t2 x 10 = 20\t\n",
            "3 x 1 = 3\t3 x 2 = 6\t3 x 3 = 9\t3 x 4 = 12\t3 x 5 = 15\t3 x 6 = 18\t3 x 7 = 21\t3 x 8 = 24\t3 x 9 = 27\t3 x 10 = 30\t\n",
            "4 x 1 = 4\t4 x 2 = 8\t4 x 3 = 12\t4 x 4 = 16\t4 x 5 = 20\t4 x 6 = 24\t4 x 7 = 28\t4 x 8 = 32\t4 x 9 = 36\t4 x 10 = 40\t\n",
            "5 x 1 = 5\t5 x 2 = 10\t5 x 3 = 15\t5 x 4 = 20\t5 x 5 = 25\t5 x 6 = 30\t5 x 7 = 35\t5 x 8 = 40\t5 x 9 = 45\t5 x 10 = 50\t\n",
            "6 x 1 = 6\t6 x 2 = 12\t6 x 3 = 18\t6 x 4 = 24\t6 x 5 = 30\t6 x 6 = 36\t6 x 7 = 42\t6 x 8 = 48\t6 x 9 = 54\t6 x 10 = 60\t\n",
            "7 x 1 = 7\t7 x 2 = 14\t7 x 3 = 21\t7 x 4 = 28\t7 x 5 = 35\t7 x 6 = 42\t7 x 7 = 49\t7 x 8 = 56\t7 x 9 = 63\t7 x 10 = 70\t\n",
            "8 x 1 = 8\t8 x 2 = 16\t8 x 3 = 24\t8 x 4 = 32\t8 x 5 = 40\t8 x 6 = 48\t8 x 7 = 56\t8 x 8 = 64\t8 x 9 = 72\t8 x 10 = 80\t\n",
            "9 x 1 = 9\t9 x 2 = 18\t9 x 3 = 27\t9 x 4 = 36\t9 x 5 = 45\t9 x 6 = 54\t9 x 7 = 63\t9 x 8 = 72\t9 x 9 = 81\t9 x 10 = 90\t\n",
            "10 x 1 = 10\t10 x 2 = 20\t10 x 3 = 30\t10 x 4 = 40\t10 x 5 = 50\t10 x 6 = 60\t10 x 7 = 70\t10 x 8 = 80\t10 x 9 = 90\t10 x 10 = 100\t\n"
          ]
        }
      ]
    },
    {
      "cell_type": "code",
      "source": [
        "# 31. Print Patterns:\n",
        "rows = 5\n",
        "for i in range(1, rows + 1):\n",
        "    print('*' * i)"
      ],
      "metadata": {
        "colab": {
          "base_uri": "https://localhost:8080/"
        },
        "id": "UbXKxZ2rFAkd",
        "outputId": "24de23f7-d4f0-4e0f-d80f-7aac0feda723"
      },
      "execution_count": 30,
      "outputs": [
        {
          "output_type": "stream",
          "name": "stdout",
          "text": [
            "*\n",
            "**\n",
            "***\n",
            "****\n",
            "*****\n"
          ]
        }
      ]
    },
    {
      "cell_type": "code",
      "source": [
        "# 32. Matrix Multiplication:\n",
        "def multiply_matrices(A, B):\n",
        "    result = [[0, 0], [0, 0]]\n",
        "    for i in range(len(A)):\n",
        "        for j in range(len(B[0])):\n",
        "            for k in range(len(B)):\n",
        "                result[i][j] += A[i][k] * B[k][j]\n",
        "    return result\n",
        "\n",
        "A = [[1, 2], [3, 4]]\n",
        "B = [[5, 6], [7, 8]]\n",
        "\n",
        "result = multiply_matrices(A, B)\n",
        "print(\"Result of matrix multiplication:\")\n",
        "for row in result:\n",
        "    print(row)\n"
      ],
      "metadata": {
        "colab": {
          "base_uri": "https://localhost:8080/"
        },
        "id": "pK7EiESdFGrH",
        "outputId": "0aa12232-d03f-45d8-8592-85377e1a2c19"
      },
      "execution_count": 31,
      "outputs": [
        {
          "output_type": "stream",
          "name": "stdout",
          "text": [
            "Result of matrix multiplication:\n",
            "[19, 22]\n",
            "[43, 50]\n"
          ]
        }
      ]
    },
    {
      "cell_type": "code",
      "source": [
        "# 33. Chessboard Pattern:\n",
        "size = 8\n",
        "for i in range(size):\n",
        "    for j in range(size):\n",
        "        if (i + j) % 2 == 0:\n",
        "            print(\"X\", end=\"\")\n",
        "        else:\n",
        "            print(\"O\", end=\"\")\n",
        "    print()\n"
      ],
      "metadata": {
        "colab": {
          "base_uri": "https://localhost:8080/"
        },
        "id": "J73Toob-FLhk",
        "outputId": "9de6cd9b-1352-4d6e-dfbb-68e0a9299483"
      },
      "execution_count": 32,
      "outputs": [
        {
          "output_type": "stream",
          "name": "stdout",
          "text": [
            "XOXOXOXO\n",
            "OXOXOXOX\n",
            "XOXOXOXO\n",
            "OXOXOXOX\n",
            "XOXOXOXO\n",
            "OXOXOXOX\n",
            "XOXOXOXO\n",
            "OXOXOXOX\n"
          ]
        }
      ]
    },
    {
      "cell_type": "code",
      "source": [
        "# 33. Number Pyramid:\n",
        "rows = 5\n",
        "for i in range(1, rows + 1):\n",
        "    print(str(i) * i)\n"
      ],
      "metadata": {
        "colab": {
          "base_uri": "https://localhost:8080/"
        },
        "id": "r0tsTuO-FLyC",
        "outputId": "54d0b2e6-69e5-4714-805c-509c3266785a"
      },
      "execution_count": 33,
      "outputs": [
        {
          "output_type": "stream",
          "name": "stdout",
          "text": [
            "1\n",
            "22\n",
            "333\n",
            "4444\n",
            "55555\n"
          ]
        }
      ]
    },
    {
      "cell_type": "code",
      "source": [
        "# 34. List Sum:\n",
        "numbers = list(map(int, input(\"Enter a list of integers: \").split()))\n",
        "list_sum = sum(numbers)\n",
        "print(\"Sum of elements:\", list_sum)"
      ],
      "metadata": {
        "colab": {
          "base_uri": "https://localhost:8080/"
        },
        "id": "1rJJkE4-FL0z",
        "outputId": "a8fe335b-8788-4eca-db7a-034cf2c181d8"
      },
      "execution_count": 34,
      "outputs": [
        {
          "output_type": "stream",
          "name": "stdout",
          "text": [
            "Enter a list of integers: 3 5 3 2 6 \n",
            "Sum of elements: 19\n"
          ]
        }
      ]
    },
    {
      "cell_type": "code",
      "source": [
        "# 36. List Max and Min:\n",
        "numbers = list(map(int, input(\"Enter a list of integers: \").split()))\n",
        "max_num = max(numbers)\n",
        "min_num = min(numbers)\n",
        "print(\"Maximum:\", max_num)\n",
        "print(\"Minimum:\", min_num)"
      ],
      "metadata": {
        "colab": {
          "base_uri": "https://localhost:8080/"
        },
        "id": "O5phA5--FL3d",
        "outputId": "357f31a7-514f-4568-8262-5938c770b19c"
      },
      "execution_count": 35,
      "outputs": [
        {
          "output_type": "stream",
          "name": "stdout",
          "text": [
            "Enter a list of integers: 3 5 6 7 8 3 4\n",
            "Maximum: 8\n",
            "Minimum: 3\n"
          ]
        }
      ]
    },
    {
      "cell_type": "code",
      "source": [
        "# 37. List Sorting:\n",
        "numbers = list(map(int, input(\"Enter a list of integers: \").split()))\n",
        "numbers.sort()\n",
        "print(\"Sorted list:\", numbers)"
      ],
      "metadata": {
        "colab": {
          "base_uri": "https://localhost:8080/"
        },
        "id": "7DypY7WhFL64",
        "outputId": "4899235b-19d0-4a8e-bc06-ba778a14cff8"
      },
      "execution_count": 36,
      "outputs": [
        {
          "output_type": "stream",
          "name": "stdout",
          "text": [
            "Enter a list of integers: 3 4 5 7 2 5 \n",
            "Sorted list: [2, 3, 4, 5, 5, 7]\n"
          ]
        }
      ]
    },
    {
      "cell_type": "code",
      "source": [
        "# 38. List Filtering:\n",
        "numbers = list(map(int, input(\"Enter a list of integers: \").split()))\n",
        "even_numbers = [num for num in numbers if num % 2 == 0]\n",
        "print(\"Even numbers:\", even_numbers)"
      ],
      "metadata": {
        "colab": {
          "base_uri": "https://localhost:8080/"
        },
        "id": "2RiXCC2wGHPG",
        "outputId": "f3d985c1-3416-42d8-b395-ead84d6fc19e"
      },
      "execution_count": 37,
      "outputs": [
        {
          "output_type": "stream",
          "name": "stdout",
          "text": [
            "Enter a list of integers: 3 4 5 6 7 8 5\n",
            "Even numbers: [4, 6, 8]\n"
          ]
        }
      ]
    },
    {
      "cell_type": "code",
      "source": [
        "# 39. List Reversal:\n",
        "numbers = list(map(int, input(\"Enter a list of integers: \").split()))\n",
        "reversed_list = []\n",
        "for num in numbers:\n",
        "    reversed_list.insert(0, num)\n",
        "print(\"Reversed list:\", reversed_list)"
      ],
      "metadata": {
        "colab": {
          "base_uri": "https://localhost:8080/"
        },
        "id": "uCqrgnLEGN0W",
        "outputId": "6b326ece-475c-4d20-f44b-e1bb151f6893"
      },
      "execution_count": 38,
      "outputs": [
        {
          "output_type": "stream",
          "name": "stdout",
          "text": [
            "Enter a list of integers: 2 3 9 8 7 3 4 \n",
            "Reversed list: [4, 3, 7, 8, 9, 3, 2]\n"
          ]
        }
      ]
    },
    {
      "cell_type": "code",
      "source": [
        "# 40. List Manipulation:\n",
        "list1 = list(map(int, input(\"Enter the first list of integers: \").split()))\n",
        "list2 = list(map(int, input(\"Enter the second list of integers: \").split()))\n",
        "common_elements = [elem for elem in list1 if elem in list2]\n",
        "print(\"Common elements:\", common_elements)"
      ],
      "metadata": {
        "colab": {
          "base_uri": "https://localhost:8080/"
        },
        "id": "HQ3bbdX6GUqP",
        "outputId": "82a12f35-4bf9-45df-b9aa-10cee379ce33"
      },
      "execution_count": 39,
      "outputs": [
        {
          "output_type": "stream",
          "name": "stdout",
          "text": [
            "Enter the first list of integers: 3 4 6 2 3 4\n",
            "Enter the second list of integers: 4 5 6 3 4 2\n",
            "Common elements: [3, 4, 6, 2, 3, 4]\n"
          ]
        }
      ]
    },
    {
      "cell_type": "code",
      "source": [
        "# 41. List Element Count:\n",
        "numbers = list(map(int, input(\"Enter a list of integers: \").split()))\n",
        "element = int(input(\"Enter the element to count: \"))\n",
        "count = numbers.count(element)\n",
        "print(f\"Element {element} occurs {count} times.\")"
      ],
      "metadata": {
        "colab": {
          "base_uri": "https://localhost:8080/"
        },
        "id": "ePHPzE6GGdnB",
        "outputId": "3c424d89-2837-4dfa-8d8b-8d760fd217ab"
      },
      "execution_count": 40,
      "outputs": [
        {
          "output_type": "stream",
          "name": "stdout",
          "text": [
            "Enter a list of integers: 3 4 1 2 3 \n",
            "Enter the element to count: 2\n",
            "Element 2 occurs 1 times.\n"
          ]
        }
      ]
    },
    {
      "cell_type": "code",
      "source": [
        "# 42. List Duplicates Removal:\n",
        "numbers = list(map(int, input(\"Enter a list of integers: \").split()))\n",
        "unique_numbers = []\n",
        "for num in numbers:\n",
        "    if num not in unique_numbers:\n",
        "        unique_numbers.append(num)\n",
        "print(\"List without duplicates:\", unique_numbers)"
      ],
      "metadata": {
        "colab": {
          "base_uri": "https://localhost:8080/"
        },
        "id": "jovN-WgEGlh4",
        "outputId": "e8ed2750-6701-41e7-df83-0bd4dd51602d"
      },
      "execution_count": 41,
      "outputs": [
        {
          "output_type": "stream",
          "name": "stdout",
          "text": [
            "Enter a list of integers: 4 4 5 3 4 5 6\n",
            "List without duplicates: [4, 5, 3, 6]\n"
          ]
        }
      ]
    },
    {
      "cell_type": "code",
      "source": [
        "# 43. List Comprehension:\n",
        "numbers = list(map(int, input(\"Enter a list of integers: \").split()))\n",
        "squared_numbers = [num ** 2 for num in numbers]\n",
        "print(\"Squared numbers:\", squared_numbers)"
      ],
      "metadata": {
        "colab": {
          "base_uri": "https://localhost:8080/"
        },
        "id": "Ndk-a1MnGlkp",
        "outputId": "771cf0f7-42ab-494c-9abd-8ec5380294b4"
      },
      "execution_count": 42,
      "outputs": [
        {
          "output_type": "stream",
          "name": "stdout",
          "text": [
            "Enter a list of integers: 4 5 6 7 8 9 2\n",
            "Squared numbers: [16, 25, 36, 49, 64, 81, 4]\n"
          ]
        }
      ]
    },
    {
      "cell_type": "code",
      "source": [
        "# 44. Matrix Addition:\n",
        "def matrix_addition(matrix1, matrix2):\n",
        "    result = []\n",
        "    for i in range(len(matrix1)):\n",
        "        row = [matrix1[i][j] + matrix2[i][j] for j in range(len(matrix1[0]))]\n",
        "        result.append(row)\n",
        "    return result\n",
        "\n",
        "matrix1 = [[1, 2], [3, 4]]\n",
        "matrix2 = [[5, 6], [7, 8]]\n",
        "result = matrix_addition(matrix1, matrix2)\n",
        "print(\"Matrix Addition Result:\", result)\n"
      ],
      "metadata": {
        "colab": {
          "base_uri": "https://localhost:8080/"
        },
        "id": "4ckm8TKaGloZ",
        "outputId": "f085fc04-4423-4f30-9879-263aef25e457"
      },
      "execution_count": 43,
      "outputs": [
        {
          "output_type": "stream",
          "name": "stdout",
          "text": [
            "Matrix Addition Result: [[6, 8], [10, 12]]\n"
          ]
        }
      ]
    },
    {
      "cell_type": "code",
      "source": [
        "# 45. Flatten Nested List:\n",
        "def flatten_list(nested_list):\n",
        "    flat_list = []\n",
        "    for sublist in nested_list:\n",
        "        if isinstance(sublist, list):\n",
        "            flat_list.extend(flatten_list(sublist))\n",
        "        else:\n",
        "            flat_list.append(sublist)\n",
        "    return flat_list\n",
        "\n",
        "nested_list = [1, [2, 3], [4, [5, 6]], 7]\n",
        "flattened = flatten_list(nested_list)\n",
        "print(\"Flattened List:\", flattened)\n"
      ],
      "metadata": {
        "colab": {
          "base_uri": "https://localhost:8080/"
        },
        "id": "EKve_EypGlrO",
        "outputId": "123fe658-d2ce-459b-80e1-6dee87b26a87"
      },
      "execution_count": 44,
      "outputs": [
        {
          "output_type": "stream",
          "name": "stdout",
          "text": [
            "Flattened List: [1, 2, 3, 4, 5, 6, 7]\n"
          ]
        }
      ]
    },
    {
      "cell_type": "code",
      "source": [
        "# 46. List Element Frequency:\n",
        "from collections import Counter\n",
        "\n",
        "def count_frequency(nested_list):\n",
        "    flat_list = flatten_list(nested_list)\n",
        "    return dict(Counter(flat_list))\n",
        "\n",
        "nested_list = [[1, 2, 2], [3, 4, 1], [2, 5]]\n",
        "frequency = count_frequency(nested_list)\n",
        "print(\"Element Frequency:\", frequency)"
      ],
      "metadata": {
        "colab": {
          "base_uri": "https://localhost:8080/"
        },
        "id": "9YCQ8I-VGlt2",
        "outputId": "8e39d73a-ee09-4505-8f53-ac800a6f8cf2"
      },
      "execution_count": 45,
      "outputs": [
        {
          "output_type": "stream",
          "name": "stdout",
          "text": [
            "Element Frequency: {1: 2, 2: 3, 3: 1, 4: 1, 5: 1}\n"
          ]
        }
      ]
    },
    {
      "cell_type": "code",
      "source": [
        "# 47. Transpose Matrix:\n",
        "def transpose_matrix(matrix):\n",
        "    return [list(row) for row in zip(*matrix)]\n",
        "\n",
        "matrix = [[1, 2, 3], [4, 5, 6], [7, 8, 9]]\n",
        "transposed = transpose_matrix(matrix)\n",
        "print(\"Transposed Matrix:\", transposed)"
      ],
      "metadata": {
        "colab": {
          "base_uri": "https://localhost:8080/"
        },
        "id": "S1cp3efoGlw3",
        "outputId": "9abc6421-0540-45b4-f46f-54d33a7a7e4d"
      },
      "execution_count": 46,
      "outputs": [
        {
          "output_type": "stream",
          "name": "stdout",
          "text": [
            "Transposed Matrix: [[1, 4, 7], [2, 5, 8], [3, 6, 9]]\n"
          ]
        }
      ]
    },
    {
      "cell_type": "code",
      "source": [
        "# 48. List of Lists Concatenation:\n",
        "nested_lists = [[1, 2], [3, 4], [5, 6]]\n",
        "flat_list = [item for sublist in nested_lists for item in sublist]\n",
        "print(\"Concatenated List:\", flat_list)"
      ],
      "metadata": {
        "colab": {
          "base_uri": "https://localhost:8080/"
        },
        "id": "7cJtHpROGl22",
        "outputId": "5fd3bbbe-f5cb-4fe5-a0e7-4019b4ab6339"
      },
      "execution_count": 47,
      "outputs": [
        {
          "output_type": "stream",
          "name": "stdout",
          "text": [
            "Concatenated List: [1, 2, 3, 4, 5, 6]\n"
          ]
        }
      ]
    },
    {
      "cell_type": "code",
      "source": [
        "# 49. Tuple Concatenation:\n",
        "tuple1 = (1, 2)\n",
        "tuple2 = (3, 4)\n",
        "concatenated_tuple = tuple1 + tuple2\n",
        "print(\"Concatenated Tuple:\", concatenated_tuple)"
      ],
      "metadata": {
        "colab": {
          "base_uri": "https://localhost:8080/"
        },
        "id": "I_lx1QMMGl8l",
        "outputId": "4aff8d15-33ed-4182-9e1b-302afba9bbab"
      },
      "execution_count": 48,
      "outputs": [
        {
          "output_type": "stream",
          "name": "stdout",
          "text": [
            "Concatenated Tuple: (1, 2, 3, 4)\n"
          ]
        }
      ]
    },
    {
      "cell_type": "code",
      "source": [
        "# 50. Tuple Unpacking:\n",
        "tuple_data = (1, 2, 3)\n",
        "x, y, z = tuple_data\n",
        "print(f\"x = {x}, y = {y}, z = {z}\")"
      ],
      "metadata": {
        "colab": {
          "base_uri": "https://localhost:8080/"
        },
        "id": "IMckQTSYHQoe",
        "outputId": "f8b3b7b6-60c2-48e5-f439-7cb6b20d6938"
      },
      "execution_count": 49,
      "outputs": [
        {
          "output_type": "stream",
          "name": "stdout",
          "text": [
            "x = 1, y = 2, z = 3\n"
          ]
        }
      ]
    },
    {
      "cell_type": "code",
      "source": [
        "# 51. Tuple Sorting:\n",
        "tuple_data = (3, 1, 4, 1, 5, 9)\n",
        "sorted_tuple = tuple(sorted(tuple_data))\n",
        "print(\"Sorted Tuple:\", sorted_tuple)"
      ],
      "metadata": {
        "colab": {
          "base_uri": "https://localhost:8080/"
        },
        "id": "D5e7SODZHQrh",
        "outputId": "649391d0-34a6-4899-d74a-3734f10714cb"
      },
      "execution_count": 50,
      "outputs": [
        {
          "output_type": "stream",
          "name": "stdout",
          "text": [
            "Sorted Tuple: (1, 1, 3, 4, 5, 9)\n"
          ]
        }
      ]
    },
    {
      "cell_type": "code",
      "source": [
        "# 52. Tuple Frequency Count:\n",
        "tuple_data = (1, 2, 2, 3, 4, 2, 5)\n",
        "element = 2\n",
        "count = tuple_data.count(element)\n",
        "print(f\"Element {element} occurs {count} times.\")"
      ],
      "metadata": {
        "colab": {
          "base_uri": "https://localhost:8080/"
        },
        "id": "IhZlAgWtHQuX",
        "outputId": "7bba795a-50c7-4682-cc34-ff059efc1acc"
      },
      "execution_count": 51,
      "outputs": [
        {
          "output_type": "stream",
          "name": "stdout",
          "text": [
            "Element 2 occurs 3 times.\n"
          ]
        }
      ]
    },
    {
      "cell_type": "code",
      "source": [
        "# 53. Tuple to List:\n",
        "tuple_data = (1, 2, 3)\n",
        "list_data = list(tuple_data)\n",
        "print(\"Converted List:\", list_data)"
      ],
      "metadata": {
        "colab": {
          "base_uri": "https://localhost:8080/"
        },
        "id": "KBn_agRfHQxD",
        "outputId": "6af608e1-257c-436d-b3ce-50cb703ef7c3"
      },
      "execution_count": 52,
      "outputs": [
        {
          "output_type": "stream",
          "name": "stdout",
          "text": [
            "Converted List: [1, 2, 3]\n"
          ]
        }
      ]
    },
    {
      "cell_type": "code",
      "source": [
        "# 54. Tuple Reversal:\n",
        "tuple_data = (1, 2, 3, 4)\n",
        "reversed_tuple = tuple_data[::-1]\n",
        "print(\"Reversed Tuple:\", reversed_tuple)"
      ],
      "metadata": {
        "colab": {
          "base_uri": "https://localhost:8080/"
        },
        "id": "RTAX6-LoHQ0K",
        "outputId": "342051bf-8df3-48fc-94ce-7a748054c69b"
      },
      "execution_count": 53,
      "outputs": [
        {
          "output_type": "stream",
          "name": "stdout",
          "text": [
            "Reversed Tuple: (4, 3, 2, 1)\n"
          ]
        }
      ]
    },
    {
      "cell_type": "code",
      "source": [
        "# 55. Tuple Slicing:\n",
        "tuple_data = (1, 2, 3, 4, 5, 6)\n",
        "sliced_tuple = tuple_data[2:5]\n",
        "print(\"Sliced Tuple:\", sliced_tuple)"
      ],
      "metadata": {
        "colab": {
          "base_uri": "https://localhost:8080/"
        },
        "id": "RgZk5A-FHQ3L",
        "outputId": "173e3e96-0f0e-4aed-9707-eb3d41ce7f55"
      },
      "execution_count": 54,
      "outputs": [
        {
          "output_type": "stream",
          "name": "stdout",
          "text": [
            "Sliced Tuple: (3, 4, 5)\n"
          ]
        }
      ]
    },
    {
      "cell_type": "code",
      "source": [
        "# 56. Tuple Operations:\n",
        "tuple1 = (1, 2, 3)\n",
        "tuple2 = (4, 5, 6)\n",
        "\n",
        "addition = tuple(a + b for a, b in zip(tuple1, tuple2))\n",
        "subtraction = tuple(a - b for a, b in zip(tuple1, tuple2))\n",
        "multiplication = tuple(a * b for a, b in zip(tuple1, tuple2))\n",
        "\n",
        "print(\"Addition:\", addition)\n",
        "print(\"Subtraction:\", subtraction)\n",
        "print(\"Multiplication:\", multiplication)\n"
      ],
      "metadata": {
        "colab": {
          "base_uri": "https://localhost:8080/"
        },
        "id": "3VTtRMunHQ6j",
        "outputId": "d0e778e2-092c-40f4-8fe6-cfcfbe118ce6"
      },
      "execution_count": 55,
      "outputs": [
        {
          "output_type": "stream",
          "name": "stdout",
          "text": [
            "Addition: (5, 7, 9)\n",
            "Subtraction: (-3, -3, -3)\n",
            "Multiplication: (4, 10, 18)\n"
          ]
        }
      ]
    },
    {
      "cell_type": "code",
      "source": [
        "# 57. Tuple Membership Test:\n",
        "tuple_data = (1, 2, 3, 4, 5)\n",
        "element = int(input(\"Enter an element to check: \"))\n",
        "if element in tuple_data:\n",
        "    print(f\"{element} exists in the tuple.\")\n",
        "else:\n",
        "    print(f\"{element} does not exist in the tuple.\")"
      ],
      "metadata": {
        "colab": {
          "base_uri": "https://localhost:8080/"
        },
        "id": "nrWAOf5KHRB5",
        "outputId": "95082626-4276-45d2-d34f-0da31f0be007"
      },
      "execution_count": 56,
      "outputs": [
        {
          "output_type": "stream",
          "name": "stdout",
          "text": [
            "Enter an element to check: 4\n",
            "4 exists in the tuple.\n"
          ]
        }
      ]
    },
    {
      "cell_type": "code",
      "source": [
        "# 58. Tuple Packing:\n",
        "x, y, z = 1, 2, 3\n",
        "packed_tuple = (x, y, z)\n",
        "print(\"Packed Tuple:\", packed_tuple)"
      ],
      "metadata": {
        "colab": {
          "base_uri": "https://localhost:8080/"
        },
        "id": "2vUDAdwvHRFR",
        "outputId": "9ac08bff-ef0c-457a-aaad-fe917c58e0b7"
      },
      "execution_count": 57,
      "outputs": [
        {
          "output_type": "stream",
          "name": "stdout",
          "text": [
            "Packed Tuple: (1, 2, 3)\n"
          ]
        }
      ]
    },
    {
      "cell_type": "code",
      "source": [
        "# 59. Nested List Element Access:\n",
        "nested_list = [[1, 2, 3], [4, 5, 6], [7, 8, 9]]\n",
        "element = nested_list[1][2]\n",
        "print(\"Accessed Element:\", element)"
      ],
      "metadata": {
        "colab": {
          "base_uri": "https://localhost:8080/"
        },
        "id": "52Rxes6gH2UF",
        "outputId": "93aecd7b-2145-4932-ea30-0c2667e938eb"
      },
      "execution_count": 58,
      "outputs": [
        {
          "output_type": "stream",
          "name": "stdout",
          "text": [
            "Accessed Element: 6\n"
          ]
        }
      ]
    },
    {
      "cell_type": "code",
      "source": [
        "# 60. Nested List Flattening:\n",
        "def flatten_list(nested_list):\n",
        "    flat_list = []\n",
        "    for sublist in nested_list:\n",
        "        if isinstance(sublist, list):\n",
        "            flat_list.extend(flatten_list(sublist))\n",
        "        else:\n",
        "            flat_list.append(sublist)\n",
        "    return flat_list\n",
        "\n",
        "nested_list = [1, [2, 3], [4, [5, 6]], 7]\n",
        "flattened = flatten_list(nested_list)\n",
        "print(\"Flattened List:\", flattened)"
      ],
      "metadata": {
        "colab": {
          "base_uri": "https://localhost:8080/"
        },
        "id": "HGPwImPeH2W4",
        "outputId": "8e121b0a-4e44-445c-b7af-17c4b8a179c1"
      },
      "execution_count": 59,
      "outputs": [
        {
          "output_type": "stream",
          "name": "stdout",
          "text": [
            "Flattened List: [1, 2, 3, 4, 5, 6, 7]\n"
          ]
        }
      ]
    },
    {
      "cell_type": "code",
      "source": [
        "# 61. Nested List Sorting:\n",
        "nested_list = [[1, 2], [3, 4, 5], [6]]\n",
        "sorted_list = sorted(nested_list, key=len)\n",
        "print(\"Sorted Nested List:\", sorted_list)\n"
      ],
      "metadata": {
        "colab": {
          "base_uri": "https://localhost:8080/"
        },
        "id": "tGybJ40FH2aL",
        "outputId": "efa5dbd9-ae9d-4d4c-ac35-ca0514de8187"
      },
      "execution_count": 60,
      "outputs": [
        {
          "output_type": "stream",
          "name": "stdout",
          "text": [
            "Sorted Nested List: [[6], [1, 2], [3, 4, 5]]\n"
          ]
        }
      ]
    },
    {
      "cell_type": "code",
      "source": [
        "# 62. List of Tuples Conversion:\n",
        "nested_list = [(1, 2), (3, 4), (5, 6)]\n",
        "x_coords = [x for x, y in nested_list]\n",
        "y_coords = [y for x, y in nested_list]\n",
        "print(\"X Coordinates:\", x_coords)\n",
        "print(\"Y Coordinates:\", y_coords)\n"
      ],
      "metadata": {
        "colab": {
          "base_uri": "https://localhost:8080/"
        },
        "id": "DM3xQzRkH2c4",
        "outputId": "4dec2ea1-826e-4f0b-d313-7f148caf2279"
      },
      "execution_count": 61,
      "outputs": [
        {
          "output_type": "stream",
          "name": "stdout",
          "text": [
            "X Coordinates: [1, 3, 5]\n",
            "Y Coordinates: [2, 4, 6]\n"
          ]
        }
      ]
    },
    {
      "cell_type": "code",
      "source": [
        "# 63. Matrix Transpose:\n",
        "def transpose_matrix(matrix):\n",
        "    return [list(row) for row in zip(*matrix)]\n",
        "\n",
        "matrix = [[1, 2, 3], [4, 5, 6], [7, 8, 9]]\n",
        "transposed = transpose_matrix(matrix)\n",
        "print(\"Transposed Matrix:\", transposed)\n"
      ],
      "metadata": {
        "colab": {
          "base_uri": "https://localhost:8080/"
        },
        "id": "55-iQeL8H2gc",
        "outputId": "66d28a98-6856-4b96-8161-367bdb51d24b"
      },
      "execution_count": 62,
      "outputs": [
        {
          "output_type": "stream",
          "name": "stdout",
          "text": [
            "Transposed Matrix: [[1, 4, 7], [2, 5, 8], [3, 6, 9]]\n"
          ]
        }
      ]
    },
    {
      "cell_type": "code",
      "source": [
        "# 64. Nested List Concatenation:\n",
        "nested_lists = [[1, 2], [3, 4], [5, 6]]\n",
        "flat_list = [item for sublist in nested_lists for item in sublist]\n",
        "print(\"Concatenated List:\", flat_list)\n"
      ],
      "metadata": {
        "colab": {
          "base_uri": "https://localhost:8080/"
        },
        "id": "w58wlih-H2jR",
        "outputId": "59b27068-70a0-4684-ee49-8b929fabc565"
      },
      "execution_count": 63,
      "outputs": [
        {
          "output_type": "stream",
          "name": "stdout",
          "text": [
            "Concatenated List: [1, 2, 3, 4, 5, 6]\n"
          ]
        }
      ]
    },
    {
      "cell_type": "code",
      "source": [
        "# 65. Count Even Numbers:\n",
        "def count_even_numbers(nested_list):\n",
        "    return sum(1 for sublist in nested_list for num in sublist if num % 2 == 0)\n",
        "\n",
        "nested_list = [[1, 2, 3], [4, 5, 6], [7, 8, 9]]\n",
        "even_count = count_even_numbers(nested_list)\n",
        "print(\"Number of Even Numbers:\", even_count)"
      ],
      "metadata": {
        "colab": {
          "base_uri": "https://localhost:8080/"
        },
        "id": "PEdHqkvCH2mc",
        "outputId": "38beedd3-85d6-4899-cdf7-e58bb4f1946a"
      },
      "execution_count": 64,
      "outputs": [
        {
          "output_type": "stream",
          "name": "stdout",
          "text": [
            "Number of Even Numbers: 4\n"
          ]
        }
      ]
    },
    {
      "cell_type": "code",
      "source": [
        "# 66. Maximum Element in Nested List:\n",
        "nested_list = [[1, 2], [3, 4], [5, 6]]\n",
        "max_element = max(max(sublist) for sublist in nested_list)\n",
        "print(\"Maximum Element:\", max_element)\n"
      ],
      "metadata": {
        "colab": {
          "base_uri": "https://localhost:8080/"
        },
        "id": "5OvRWfJMH2pE",
        "outputId": "68f8d161-9f10-4184-8b43-3fdd38128599"
      },
      "execution_count": 65,
      "outputs": [
        {
          "output_type": "stream",
          "name": "stdout",
          "text": [
            "Maximum Element: 6\n"
          ]
        }
      ]
    },
    {
      "cell_type": "code",
      "source": [
        "# 67. Diagonal Sum of Matrix:\n",
        "def diagonal_sum(matrix):\n",
        "    return sum(matrix[i][i] for i in range(len(matrix)))\n",
        "\n",
        "matrix = [[1, 2, 3], [4, 5, 6], [7, 8, 9]]\n",
        "sum_diagonal = diagonal_sum(matrix)\n",
        "print(\"Sum of Diagonal Elements:\", sum_diagonal)\n"
      ],
      "metadata": {
        "colab": {
          "base_uri": "https://localhost:8080/"
        },
        "id": "F2lyVTTJH2vH",
        "outputId": "6850bd65-0e9e-4a97-b6d7-01abd0cd8e20"
      },
      "execution_count": 66,
      "outputs": [
        {
          "output_type": "stream",
          "name": "stdout",
          "text": [
            "Sum of Diagonal Elements: 15\n"
          ]
        }
      ]
    },
    {
      "cell_type": "code",
      "source": [
        "# 68. Nested List Element Search:\n",
        "def search_element(nested_list, target):\n",
        "    for i, row in enumerate(nested_list):\n",
        "        for j, val in enumerate(row):\n",
        "            if val == target:\n",
        "                return (i, j)\n",
        "    return None\n",
        "\n",
        "nested_list = [[1, 2], [3, 4], [5, 6]]\n",
        "target = 4\n",
        "position = search_element(nested_list, target)\n",
        "print(\"Element Position:\", position)\n"
      ],
      "metadata": {
        "colab": {
          "base_uri": "https://localhost:8080/"
        },
        "id": "7MHyUurVH2ya",
        "outputId": "32d58fcc-9455-4841-97f1-b3848cb9b893"
      },
      "execution_count": 67,
      "outputs": [
        {
          "output_type": "stream",
          "name": "stdout",
          "text": [
            "Element Position: (1, 1)\n"
          ]
        }
      ]
    },
    {
      "cell_type": "code",
      "source": [
        "# 69. Duplicate Removal:\n",
        "def remove_duplicates(input_list):\n",
        "    return set(input_list)\n",
        "\n",
        "input_list = [1, 2, 2, 3, 4, 4, 5]\n",
        "unique_elements = remove_duplicates(input_list)\n",
        "print(\"Unique Elements:\", unique_elements)\n"
      ],
      "metadata": {
        "colab": {
          "base_uri": "https://localhost:8080/"
        },
        "id": "6OZaKJMrH259",
        "outputId": "5fb7e678-1b0a-48e5-acd2-ddc359000187"
      },
      "execution_count": 68,
      "outputs": [
        {
          "output_type": "stream",
          "name": "stdout",
          "text": [
            "Unique Elements: {1, 2, 3, 4, 5}\n"
          ]
        }
      ]
    },
    {
      "cell_type": "code",
      "source": [
        "# 70. Set Intersection:\n",
        "set_a = {1, 2, 3, 4}\n",
        "set_b = {3, 4, 5, 6}\n",
        "intersection = set_a & set_b\n",
        "print(\"Intersection:\", intersection)\n"
      ],
      "metadata": {
        "colab": {
          "base_uri": "https://localhost:8080/"
        },
        "id": "rnk-eWnSIurb",
        "outputId": "03d84a0f-4278-4842-e1a2-938f985b0a9d"
      },
      "execution_count": 69,
      "outputs": [
        {
          "output_type": "stream",
          "name": "stdout",
          "text": [
            "Intersection: {3, 4}\n"
          ]
        }
      ]
    },
    {
      "cell_type": "code",
      "source": [
        "# 71. Set Union:\n",
        "set_a = {1, 2, 3}\n",
        "set_b = {3, 4, 5}\n",
        "union = set_a | set_b\n",
        "print(\"Union:\", union)\n"
      ],
      "metadata": {
        "colab": {
          "base_uri": "https://localhost:8080/"
        },
        "id": "ngtUCwKpIuuo",
        "outputId": "cfa1e827-b0b2-4e75-b1de-210902b37b25"
      },
      "execution_count": 70,
      "outputs": [
        {
          "output_type": "stream",
          "name": "stdout",
          "text": [
            "Union: {1, 2, 3, 4, 5}\n"
          ]
        }
      ]
    },
    {
      "cell_type": "code",
      "source": [
        "# 72. Set Difference:\n",
        "set_a = {1, 2, 3, 4}\n",
        "set_b = {3, 4, 5, 6}\n",
        "difference = set_a - set_b\n",
        "print(\"Difference (A - B):\", difference)\n"
      ],
      "metadata": {
        "colab": {
          "base_uri": "https://localhost:8080/"
        },
        "id": "KYqDWDVsIux_",
        "outputId": "ddc59755-86fa-4752-a318-3a29626db11a"
      },
      "execution_count": 71,
      "outputs": [
        {
          "output_type": "stream",
          "name": "stdout",
          "text": [
            "Difference (A - B): {1, 2}\n"
          ]
        }
      ]
    },
    {
      "cell_type": "code",
      "source": [
        "# 73. Set Symmetric Difference:\n",
        "set_a = {1, 2, 3}\n",
        "set_b = {3, 4, 5}\n",
        "symmetric_difference = set_a ^ set_b\n",
        "print(\"Symmetric Difference:\", symmetric_difference)\n"
      ],
      "metadata": {
        "colab": {
          "base_uri": "https://localhost:8080/"
        },
        "id": "ipDXKi8ZIu04",
        "outputId": "68f006e7-3e29-4628-dd5a-a6eb60fcc37b"
      },
      "execution_count": 72,
      "outputs": [
        {
          "output_type": "stream",
          "name": "stdout",
          "text": [
            "Symmetric Difference: {1, 2, 4, 5}\n"
          ]
        }
      ]
    },
    {
      "cell_type": "code",
      "source": [
        "# 74. Set Operations:\n",
        "set_a = {1, 2, 3}\n",
        "set_b = {3, 4, 5}\n",
        "set_c = {5, 6, 7}\n",
        "\n",
        "intersection_ab = set_a & set_b\n",
        "union_bc = set_b | set_c\n",
        "difference_ca = set_c - set_a\n",
        "\n",
        "print(\"Intersection of A and B:\", intersection_ab)\n",
        "print(\"Union of B and C:\", union_bc)\n",
        "print(\"Difference of C and A:\", difference_ca)\n"
      ],
      "metadata": {
        "colab": {
          "base_uri": "https://localhost:8080/"
        },
        "id": "id3zyZ7MIu4B",
        "outputId": "0c7fb31e-7f31-4a73-a947-646f74c3488b"
      },
      "execution_count": 73,
      "outputs": [
        {
          "output_type": "stream",
          "name": "stdout",
          "text": [
            "Intersection of A and B: {3}\n",
            "Union of B and C: {3, 4, 5, 6, 7}\n",
            "Difference of C and A: {5, 6, 7}\n"
          ]
        }
      ]
    },
    {
      "cell_type": "code",
      "source": [
        "# 75. Set Subset Check:\n",
        "set_a = {1, 2, 3}\n",
        "set_b = {1, 2, 3, 4, 5}\n",
        "is_subset = set_a.issubset(set_b)\n",
        "print(\"Set A is a subset of Set B:\", is_subset)"
      ],
      "metadata": {
        "colab": {
          "base_uri": "https://localhost:8080/"
        },
        "id": "5ncP5--KIu7U",
        "outputId": "08e26475-2af9-4642-a7f4-b6fab124a07c"
      },
      "execution_count": 74,
      "outputs": [
        {
          "output_type": "stream",
          "name": "stdout",
          "text": [
            "Set A is a subset of Set B: True\n"
          ]
        }
      ]
    },
    {
      "cell_type": "code",
      "source": [
        "# 76. Set Superset Check:\n",
        "set_a = {1, 2, 3, 4, 5}\n",
        "set_b = {2, 3}\n",
        "is_superset = set_a.issuperset(set_b)\n",
        "print(\"Set A is a superset of Set B:\", is_superset)\n"
      ],
      "metadata": {
        "colab": {
          "base_uri": "https://localhost:8080/"
        },
        "id": "AJD3G5u5Iu_H",
        "outputId": "7a8fd49a-1a74-436e-e03d-15a662346cb1"
      },
      "execution_count": 75,
      "outputs": [
        {
          "output_type": "stream",
          "name": "stdout",
          "text": [
            "Set A is a superset of Set B: True\n"
          ]
        }
      ]
    },
    {
      "cell_type": "code",
      "source": [
        "# 77. Set Length Check:\n",
        "my_set = {1, 2, 3, 4, 5}\n",
        "set_length = len(my_set)\n",
        "print(\"Number of elements in the set:\", set_length)\n"
      ],
      "metadata": {
        "colab": {
          "base_uri": "https://localhost:8080/"
        },
        "id": "7En75_IFIvCc",
        "outputId": "136be88d-c482-4ee4-d83f-f862abcf3151"
      },
      "execution_count": 76,
      "outputs": [
        {
          "output_type": "stream",
          "name": "stdout",
          "text": [
            "Number of elements in the set: 5\n"
          ]
        }
      ]
    },
    {
      "cell_type": "code",
      "source": [
        "# 78. Set Membership Test:\n",
        "my_set = {1, 2, 3, 4, 5}\n",
        "element = int(input(\"Enter an element to check: \"))\n",
        "if element in my_set:\n",
        "    print(\"Found\")\n",
        "else:\n",
        "    print(\"Not Found\")\n"
      ],
      "metadata": {
        "colab": {
          "base_uri": "https://localhost:8080/"
        },
        "id": "lMMPJh1mIvGH",
        "outputId": "d2f797af-5f69-413e-ce34-6385595cce9f"
      },
      "execution_count": 77,
      "outputs": [
        {
          "output_type": "stream",
          "name": "stdout",
          "text": [
            "Enter an element to check: 5\n",
            "Found\n"
          ]
        }
      ]
    },
    {
      "cell_type": "code",
      "source": [
        "# 79. Dictionary Manipulation:\n",
        "student_scores = {'Alice': 85, 'Bob': 90, 'Charlie': 78}\n",
        "student_scores['David'] = 92\n",
        "student_scores['Alice'] = 88\n",
        "print(\"Updated Dictionary:\", student_scores)\n"
      ],
      "metadata": {
        "colab": {
          "base_uri": "https://localhost:8080/"
        },
        "id": "553hrM8xIvLh",
        "outputId": "33b5248e-9e7a-4b8b-cd54-ff9972b2ffba"
      },
      "execution_count": 78,
      "outputs": [
        {
          "output_type": "stream",
          "name": "stdout",
          "text": [
            "Updated Dictionary: {'Alice': 88, 'Bob': 90, 'Charlie': 78, 'David': 92}\n"
          ]
        }
      ]
    },
    {
      "cell_type": "code",
      "source": [
        "# 80. Dictionary Keys and Values:\n",
        "student_scores = {'Alice': 85, 'Bob': 90, 'Charlie': 78}\n",
        "print(\"Keys:\")\n",
        "for key in student_scores.keys():\n",
        "    print(key)\n",
        "print(\"Values:\")\n",
        "for value in student_scores.values():\n",
        "    print(value)\n"
      ],
      "metadata": {
        "colab": {
          "base_uri": "https://localhost:8080/"
        },
        "id": "w6KU9pZBJgjV",
        "outputId": "b2fd9b46-a1f6-4518-8c06-5f8d37e5b750"
      },
      "execution_count": 79,
      "outputs": [
        {
          "output_type": "stream",
          "name": "stdout",
          "text": [
            "Keys:\n",
            "Alice\n",
            "Bob\n",
            "Charlie\n",
            "Values:\n",
            "85\n",
            "90\n",
            "78\n"
          ]
        }
      ]
    },
    {
      "cell_type": "code",
      "source": [
        "# 81. Dictionary Length:\n",
        "student_scores = {'Alice': 85, 'Bob': 90, 'Charlie': 78}\n",
        "length = len(student_scores)\n",
        "print(\"Number of key-value pairs:\", length)\n"
      ],
      "metadata": {
        "colab": {
          "base_uri": "https://localhost:8080/"
        },
        "id": "f2cGIADJJgmg",
        "outputId": "81d60177-2487-42ba-d208-7b9fcd57639f"
      },
      "execution_count": 80,
      "outputs": [
        {
          "output_type": "stream",
          "name": "stdout",
          "text": [
            "Number of key-value pairs: 3\n"
          ]
        }
      ]
    },
    {
      "cell_type": "code",
      "source": [
        "# 82. Dictionary Value Search:\n",
        "item_prices = {'apple': 2, 'banana': 1, 'orange': 3}\n",
        "search_price = int(input(\"Enter the price to search: \"))\n",
        "found = False\n",
        "for item, price in item_prices.items():\n",
        "    if price == search_price:\n",
        "        print(\"Item found:\", item)\n",
        "        found = True\n",
        "        break\n",
        "if not found:\n",
        "    print(\"Item with the given price not found.\")\n"
      ],
      "metadata": {
        "colab": {
          "base_uri": "https://localhost:8080/"
        },
        "id": "tK6EIQzMJgp2",
        "outputId": "62444636-2f8f-46e5-9c6c-fe80c467a146"
      },
      "execution_count": 81,
      "outputs": [
        {
          "output_type": "stream",
          "name": "stdout",
          "text": [
            "Enter the price to search: 3\n",
            "Item found: orange\n"
          ]
        }
      ]
    },
    {
      "cell_type": "code",
      "source": [
        "# 83. Dictionary Merging:\n",
        "dict1 = {'a': 1, 'b': 2}\n",
        "dict2 = {'c': 3, 'd': 4}\n",
        "merged_dict = {**dict1, **dict2}\n",
        "print(\"Merged Dictionary:\", merged_dict)\n"
      ],
      "metadata": {
        "colab": {
          "base_uri": "https://localhost:8080/"
        },
        "id": "IyhxWIvCJg4p",
        "outputId": "82aca02d-9ddd-4d41-dbe2-f4ff6486bc70"
      },
      "execution_count": 82,
      "outputs": [
        {
          "output_type": "stream",
          "name": "stdout",
          "text": [
            "Merged Dictionary: {'a': 1, 'b': 2, 'c': 3, 'd': 4}\n"
          ]
        }
      ]
    },
    {
      "cell_type": "code",
      "source": [
        "# 84. Dictionary Key Removal:\n",
        "items = {'apple': 5, 'banana': 3, 'orange': 8}\n",
        "item_to_remove = input(\"Enter the item to remove: \")\n",
        "if item_to_remove in items:\n",
        "    del items[item_to_remove]\n",
        "    print(f\"{item_to_remove} removed. Updated dictionary:\", items)\n",
        "else:\n",
        "    print(\"Item not found.\")\n"
      ],
      "metadata": {
        "colab": {
          "base_uri": "https://localhost:8080/"
        },
        "id": "VlCNH2yEJg8W",
        "outputId": "b00d5bd6-16f4-4a13-a0d6-4c86855774fb"
      },
      "execution_count": 83,
      "outputs": [
        {
          "output_type": "stream",
          "name": "stdout",
          "text": [
            "Enter the item to remove: apple\n",
            "apple removed. Updated dictionary: {'banana': 3, 'orange': 8}\n"
          ]
        }
      ]
    },
    {
      "cell_type": "code",
      "source": [
        "# 85. Dictionary Sorting:\n",
        "people = {'Alice': 30, 'Bob': 25, 'Charlie': 35}\n",
        "sorted_people = dict(sorted(people.items(), key=lambda item: item[1]))\n",
        "print(\"Sorted Dictionary by Age:\", sorted_people)\n"
      ],
      "metadata": {
        "colab": {
          "base_uri": "https://localhost:8080/"
        },
        "id": "aZK9ab6SJg_-",
        "outputId": "c4347173-0cf4-4b2f-af50-b0860106f912"
      },
      "execution_count": 84,
      "outputs": [
        {
          "output_type": "stream",
          "name": "stdout",
          "text": [
            "Sorted Dictionary by Age: {'Bob': 25, 'Alice': 30, 'Charlie': 35}\n"
          ]
        }
      ]
    },
    {
      "cell_type": "code",
      "source": [
        "# 86. Dictionary Frequency Count:\n",
        "input_string = input(\"Enter a string: \")\n",
        "char_frequency = {}\n",
        "for char in input_string:\n",
        "    if char in char_frequency:\n",
        "        char_frequency[char] += 1\n",
        "    else:\n",
        "        char_frequency[char] = 1\n",
        "print(\"Character Frequency:\", char_frequency)\n"
      ],
      "metadata": {
        "colab": {
          "base_uri": "https://localhost:8080/"
        },
        "id": "H0JAwVmaJhFp",
        "outputId": "e48cd96e-9027-4163-ee73-12cad6491e72"
      },
      "execution_count": 85,
      "outputs": [
        {
          "output_type": "stream",
          "name": "stdout",
          "text": [
            "Enter a string: hi world\n",
            "Character Frequency: {'h': 1, 'i': 1, ' ': 1, 'w': 1, 'o': 1, 'r': 1, 'l': 1, 'd': 1}\n"
          ]
        }
      ]
    },
    {
      "cell_type": "code",
      "source": [
        "# 87. Dictionary Comprehension:\n",
        "numbers = [1, 2, 3, 4, 5]\n",
        "squares = {num: num ** 2 for num in numbers}\n",
        "print(\"Dictionary of Squares:\", squares)\n"
      ],
      "metadata": {
        "colab": {
          "base_uri": "https://localhost:8080/"
        },
        "id": "GzvrJO51JhIV",
        "outputId": "d271f66e-9eb9-4aeb-895a-96845fd0bbd4"
      },
      "execution_count": 86,
      "outputs": [
        {
          "output_type": "stream",
          "name": "stdout",
          "text": [
            "Dictionary of Squares: {1: 1, 2: 4, 3: 9, 4: 16, 5: 25}\n"
          ]
        }
      ]
    },
    {
      "cell_type": "code",
      "source": [
        "# 88. Dictionary Key Check:\n",
        "student_scores = {'Alice': 85, 'Bob': 90, 'Charlie': 78}\n",
        "key_to_check = input(\"Enter the key to check: \")\n",
        "if key_to_check in student_scores:\n",
        "    print(\"Key Found\")\n",
        "else:\n",
        "    print(\"Key Not Found\")\n"
      ],
      "metadata": {
        "colab": {
          "base_uri": "https://localhost:8080/"
        },
        "id": "_zLBwxZgJhL-",
        "outputId": "237e5a93-1c3c-4906-c8e8-b5a68623c64f"
      },
      "execution_count": 87,
      "outputs": [
        {
          "output_type": "stream",
          "name": "stdout",
          "text": [
            "Enter the key to check: Alice\n",
            "Key Found\n"
          ]
        }
      ]
    },
    {
      "cell_type": "code",
      "source": [
        "# 89. Access Nested Dictionary:\n",
        "student_details = {\n",
        "    'Alice': {'age': 21, 'address': 'New York'},\n",
        "    'Bob': {'age': 22, 'address': 'California'}\n",
        "}\n",
        "name = input(\"Enter the student's name: \")\n",
        "if name in student_details:\n",
        "    print(f\"Name: {name}, Age: {student_details[name]['age']}, Address: {student_details[name]['address']}\")\n",
        "else:\n",
        "    print(\"Student not found.\")\n"
      ],
      "metadata": {
        "colab": {
          "base_uri": "https://localhost:8080/"
        },
        "id": "J8Z9AcknIvWI",
        "outputId": "6c6ee00a-7cf8-4218-c647-c44f1f68bc9e"
      },
      "execution_count": 88,
      "outputs": [
        {
          "output_type": "stream",
          "name": "stdout",
          "text": [
            "Enter the student's name: Bob\n",
            "Name: Bob, Age: 22, Address: California\n"
          ]
        }
      ]
    },
    {
      "cell_type": "code",
      "source": [
        "# 90. Nested Dictionary Length:\n",
        "nested_dict = {\n",
        "    'Alice': {'age': 21, 'address': 'New York'},\n",
        "    'Bob': {'age': 22, 'address': 'California'}\n",
        "}\n",
        "length = sum(len(value) for value in nested_dict.values())\n",
        "print(\"Total number of key-value pairs:\", length)\n"
      ],
      "metadata": {
        "colab": {
          "base_uri": "https://localhost:8080/"
        },
        "id": "bLATjtVRIvc4",
        "outputId": "cdc23d28-a7c8-42fe-f46d-dbed936bf582"
      },
      "execution_count": 89,
      "outputs": [
        {
          "output_type": "stream",
          "name": "stdout",
          "text": [
            "Total number of key-value pairs: 4\n"
          ]
        }
      ]
    },
    {
      "cell_type": "code",
      "source": [
        "# 91. Nested Dictionary Update:\n",
        "employee_details = {\n",
        "    'E001': {'name': 'Alice', 'salary': 5000},\n",
        "    'E002': {'name': 'Bob', 'salary': 6000}\n",
        "}\n",
        "employee_id = input(\"Enter the employee ID: \")\n",
        "new_salary = int(input(\"Enter the new salary: \"))\n",
        "if employee_id in employee_details:\n",
        "    employee_details[employee_id]['salary'] = new_salary\n",
        "    print(f\"Updated details: {employee_details[employee_id]}\")\n",
        "else:\n",
        "    print(\"Employee not found.\")\n"
      ],
      "metadata": {
        "colab": {
          "base_uri": "https://localhost:8080/"
        },
        "id": "O7pMAl1zKnI9",
        "outputId": "500a7b4e-1b39-450e-f223-825b2bc8b4fa"
      },
      "execution_count": 90,
      "outputs": [
        {
          "output_type": "stream",
          "name": "stdout",
          "text": [
            "Enter the employee ID: E001\n",
            "Enter the new salary: 7000\n",
            "Updated details: {'name': 'Alice', 'salary': 7000}\n"
          ]
        }
      ]
    },
    {
      "cell_type": "code",
      "source": [
        "# 92. Nested Dictionary Sorting:\n",
        "products = {\n",
        "    'product1': {'price': 10, 'quantity': 5},\n",
        "    'product2': {'price': 5, 'quantity': 10},\n",
        "    'product3': {'price': 15, 'quantity': 2}\n",
        "}\n",
        "sorted_products = dict(sorted(products.items(), key=lambda item: item[1]['price']))\n",
        "print(\"Products Sorted by Price:\", sorted_products)\n"
      ],
      "metadata": {
        "colab": {
          "base_uri": "https://localhost:8080/"
        },
        "id": "YNJ4lM9PKnNE",
        "outputId": "396095bf-77ec-4507-cf71-7aeb95b83608"
      },
      "execution_count": 91,
      "outputs": [
        {
          "output_type": "stream",
          "name": "stdout",
          "text": [
            "Products Sorted by Price: {'product2': {'price': 5, 'quantity': 10}, 'product1': {'price': 10, 'quantity': 5}, 'product3': {'price': 15, 'quantity': 2}}\n"
          ]
        }
      ]
    },
    {
      "cell_type": "code",
      "source": [
        "# 93. Nested Dictionary Key Search:\n",
        "nested_dict = {\n",
        "    'person1': {'name': 'Alice', 'age': 21},\n",
        "    'person2': {'name': 'Bob', 'age': 22}\n",
        "}\n",
        "key_to_search = input(\"Enter the key to search: \")\n",
        "if key_to_search in nested_dict:\n",
        "    print(f\"Value: {nested_dict[key_to_search]}\")\n",
        "else:\n",
        "    print(\"Key Not Found.\")\n"
      ],
      "metadata": {
        "colab": {
          "base_uri": "https://localhost:8080/"
        },
        "id": "GA-jGA0aKnP0",
        "outputId": "60bfb442-83f1-41c2-b167-b8c39649ba32"
      },
      "execution_count": 92,
      "outputs": [
        {
          "output_type": "stream",
          "name": "stdout",
          "text": [
            "Enter the key to search: person1\n",
            "Value: {'name': 'Alice', 'age': 21}\n"
          ]
        }
      ]
    },
    {
      "cell_type": "code",
      "source": [
        "# 94. Prime Number Checker:\n",
        "num = int(input(\"Enter a number: \"))\n",
        "is_prime = True\n",
        "for i in range(2, num):\n",
        "    if num % i == 0:\n",
        "        is_prime = False\n",
        "        break\n",
        "if is_prime:\n",
        "    print(\"Prime\")\n",
        "else:\n",
        "    print(\"Not Prime\")\n"
      ],
      "metadata": {
        "colab": {
          "base_uri": "https://localhost:8080/"
        },
        "id": "LVf6_D1IKnS6",
        "outputId": "c7de65fd-49db-4eea-b14e-3029df38502b"
      },
      "execution_count": 93,
      "outputs": [
        {
          "output_type": "stream",
          "name": "stdout",
          "text": [
            "Enter a number: 34\n",
            "Not Prime\n"
          ]
        }
      ]
    },
    {
      "cell_type": "code",
      "source": [
        "# 95. Even Number Printer:\n",
        "for num in range(1, 21):\n",
        "    if num % 2 != 0:\n",
        "        continue\n",
        "    print(num)\n"
      ],
      "metadata": {
        "colab": {
          "base_uri": "https://localhost:8080/"
        },
        "id": "r3eeU2lJLBOz",
        "outputId": "8b652525-c37f-4baf-8a8d-87137a615174"
      },
      "execution_count": 94,
      "outputs": [
        {
          "output_type": "stream",
          "name": "stdout",
          "text": [
            "2\n",
            "4\n",
            "6\n",
            "8\n",
            "10\n",
            "12\n",
            "14\n",
            "16\n",
            "18\n",
            "20\n"
          ]
        }
      ]
    },
    {
      "cell_type": "code",
      "source": [
        "# 96. Positive Number Sum:\n",
        "total_sum = 0\n",
        "while True:\n",
        "    number = int(input(\"Enter a positive number (or a negative number to stop): \"))\n",
        "    if number < 0:\n",
        "        break\n",
        "    total_sum += number\n",
        "print(\"Sum of all positive numbers entered:\", total_sum)\n"
      ],
      "metadata": {
        "colab": {
          "base_uri": "https://localhost:8080/"
        },
        "id": "dEISA-kcLBR0",
        "outputId": "0b9f4ca9-f504-4389-e5d8-4b127e8db812"
      },
      "execution_count": 95,
      "outputs": [
        {
          "output_type": "stream",
          "name": "stdout",
          "text": [
            "Enter a positive number (or a negative number to stop): 3\n",
            "Enter a positive number (or a negative number to stop): 4\n",
            "Enter a positive number (or a negative number to stop): -6\n",
            "Sum of all positive numbers entered: 7\n"
          ]
        }
      ]
    },
    {
      "cell_type": "code",
      "source": [
        "# 97. Word Palindrome Checker:\n",
        "word = input(\"Enter a word: \")\n",
        "if len(word) < 3:\n",
        "    print(\"Word length is less than 3, skipping check.\")\n",
        "else:\n",
        "    if word == word[::-1]:\n",
        "        print(\"The word is a palindrome.\")\n",
        "    else:\n",
        "        print(\"The word is not a palindrome.\")\n"
      ],
      "metadata": {
        "colab": {
          "base_uri": "https://localhost:8080/"
        },
        "id": "KH7mYMLkLBUg",
        "outputId": "957c49cf-0319-487f-993e-32677458f470"
      },
      "execution_count": 96,
      "outputs": [
        {
          "output_type": "stream",
          "name": "stdout",
          "text": [
            "Enter a word: door\n",
            "The word is not a palindrome.\n"
          ]
        }
      ]
    },
    {
      "cell_type": "code",
      "source": [
        "# 98. Odd Number Finder:\n",
        "numbers = [2, 4, 6, 8, 7, 10]\n",
        "for num in numbers:\n",
        "    if num % 2 != 0:\n",
        "        print(\"First odd number found:\", num)\n",
        "        break\n"
      ],
      "metadata": {
        "colab": {
          "base_uri": "https://localhost:8080/"
        },
        "id": "KheGVErLLBXb",
        "outputId": "be88d5e3-579d-4baa-939e-7f827861f83e"
      },
      "execution_count": 97,
      "outputs": [
        {
          "output_type": "stream",
          "name": "stdout",
          "text": [
            "First odd number found: 7\n"
          ]
        }
      ]
    },
    {
      "cell_type": "code",
      "source": [
        "# 99. Number Guessing Game:\n",
        "import random\n",
        "\n",
        "target_number = random.randint(1, 100)\n",
        "while True:\n",
        "    guess = int(input(\"Guess the number between 1 and 100: \"))\n",
        "    if guess == target_number:\n",
        "        print(\"Correct! You guessed the number.\")\n",
        "        break\n",
        "    elif guess < target_number:\n",
        "        print(\"Too low! Try again.\")\n",
        "    else:\n",
        "        print(\"Too high! Try again.\")\n"
      ],
      "metadata": {
        "colab": {
          "base_uri": "https://localhost:8080/"
        },
        "id": "nf_tBxArLBZ1",
        "outputId": "5c811074-2d63-481b-ac14-1b35f6d7efdd"
      },
      "execution_count": 98,
      "outputs": [
        {
          "output_type": "stream",
          "name": "stdout",
          "text": [
            "Guess the number between 1 and 100: 55\n",
            "Too high! Try again.\n",
            "Guess the number between 1 and 100: 54\n",
            "Too high! Try again.\n",
            "Guess the number between 1 and 100: 50\n",
            "Too high! Try again.\n",
            "Guess the number between 1 and 100: 40\n",
            "Too high! Try again.\n",
            "Guess the number between 1 and 100: 30\n",
            "Too high! Try again.\n",
            "Guess the number between 1 and 100: 20\n",
            "Correct! You guessed the number.\n"
          ]
        }
      ]
    },
    {
      "cell_type": "code",
      "source": [
        "# 100. Vowel Counter:\n",
        "input_string = input(\"Enter a string: \")\n",
        "vowels = \"aeiou\"\n",
        "vowel_count = 0\n",
        "for char in input_string:\n",
        "    if char.lower() in vowels:\n",
        "        vowel_count += 1\n",
        "print(\"Number of vowels in the string:\", vowel_count)\n"
      ],
      "metadata": {
        "colab": {
          "base_uri": "https://localhost:8080/"
        },
        "id": "hoYynR7uLBdd",
        "outputId": "d876d3e2-0e32-4e71-ae31-06a6b9472f5e"
      },
      "execution_count": 99,
      "outputs": [
        {
          "output_type": "stream",
          "name": "stdout",
          "text": [
            "Enter a string: I am rownuk\n",
            "Number of vowels in the string: 4\n"
          ]
        }
      ]
    },
    {
      "cell_type": "code",
      "source": [
        "# 101. Unique Characters:\n",
        "input_string = input(\"Enter a string: \")\n",
        "unique_chars = set()\n",
        "for char in input_string:\n",
        "    if char in unique_chars:\n",
        "        print(\"The string does not have all unique characters.\")\n",
        "        break\n",
        "    unique_chars.add(char)\n",
        "else:\n",
        "    print(\"The string has all unique characters.\")\n"
      ],
      "metadata": {
        "colab": {
          "base_uri": "https://localhost:8080/"
        },
        "id": "d1HXpz-KKnWR",
        "outputId": "a69399fd-b71d-45b4-a3ef-fb2641a81e12"
      },
      "execution_count": 100,
      "outputs": [
        {
          "output_type": "stream",
          "name": "stdout",
          "text": [
            "Enter a string: machine learning\n",
            "The string does not have all unique characters.\n"
          ]
        }
      ]
    },
    {
      "cell_type": "code",
      "source": [
        "# 102. Factorial Calculator:\n",
        "def factorial(n):\n",
        "    if n == 0:\n",
        "        return 1\n",
        "    else:\n",
        "        return n * factorial(n - 1)\n",
        "print(factorial(5))\n"
      ],
      "metadata": {
        "colab": {
          "base_uri": "https://localhost:8080/"
        },
        "id": "in8er4FXMS7p",
        "outputId": "c8684f5e-3757-4006-d9d8-b42b8ed047cd"
      },
      "execution_count": 101,
      "outputs": [
        {
          "output_type": "stream",
          "name": "stdout",
          "text": [
            "120\n"
          ]
        }
      ]
    },
    {
      "cell_type": "code",
      "source": [
        "# 103. Palindrome Checker:\n",
        "def is_palindrome(word):\n",
        "    return word == word[::-1]\n",
        "print(is_palindrome(\"madam\"))\n",
        "print(is_palindrome(\"hello\"))\n"
      ],
      "metadata": {
        "colab": {
          "base_uri": "https://localhost:8080/"
        },
        "id": "pFTL4fa3MTAo",
        "outputId": "1e8b55bb-f84a-435a-f9bc-06bf8a313846"
      },
      "execution_count": 102,
      "outputs": [
        {
          "output_type": "stream",
          "name": "stdout",
          "text": [
            "True\n",
            "False\n"
          ]
        }
      ]
    },
    {
      "cell_type": "code",
      "source": [
        "# 104. Even or Odd Checker:\n",
        "def even_or_odd(num):\n",
        "    return \"Even\" if num % 2 == 0 else \"Odd\"\n",
        "print(even_or_odd(4))\n",
        "print(even_or_odd(7))\n"
      ],
      "metadata": {
        "colab": {
          "base_uri": "https://localhost:8080/"
        },
        "id": "eco9NFJcMTEC",
        "outputId": "be7b4423-2c91-46bb-9405-9b28dadbdd1f"
      },
      "execution_count": 103,
      "outputs": [
        {
          "output_type": "stream",
          "name": "stdout",
          "text": [
            "Even\n",
            "Odd\n"
          ]
        }
      ]
    },
    {
      "cell_type": "code",
      "source": [
        "# 105. List Sum Calculator:\n",
        "def list_sum(numbers):\n",
        "    return sum(numbers)\n",
        "print(list_sum([1, 2, 3, 4, 5]))\n"
      ],
      "metadata": {
        "colab": {
          "base_uri": "https://localhost:8080/"
        },
        "id": "P7qBX8yrMTHe",
        "outputId": "a3fd1d19-d55d-40ab-e985-6ac1ce64dcb4"
      },
      "execution_count": 104,
      "outputs": [
        {
          "output_type": "stream",
          "name": "stdout",
          "text": [
            "15\n"
          ]
        }
      ]
    },
    {
      "cell_type": "code",
      "source": [
        "# 106. Greatest Common Divisor (GCD) Calculator:\n",
        "def gcd(a, b):\n",
        "    while b:\n",
        "        a, b = b, a % b\n",
        "    return a\n",
        "print(gcd(56, 98))\n"
      ],
      "metadata": {
        "id": "F2q15Z0uMTKF",
        "colab": {
          "base_uri": "https://localhost:8080/"
        },
        "outputId": "f337540e-3c21-41a7-cccc-9ff0be00794d"
      },
      "execution_count": 105,
      "outputs": [
        {
          "output_type": "stream",
          "name": "stdout",
          "text": [
            "14\n"
          ]
        }
      ]
    },
    {
      "cell_type": "code",
      "source": [
        "# 107. Leap Year Checker:\n",
        "def is_leap_year(year):\n",
        "    return (year % 4 == 0 and year % 100 != 0) or (year % 400 == 0)\n",
        "\n",
        "print(is_leap_year(2020))\n",
        "print(is_leap_year(2023))\n"
      ],
      "metadata": {
        "id": "Etr3EdZXMTNI",
        "colab": {
          "base_uri": "https://localhost:8080/"
        },
        "outputId": "19461fda-ba21-4258-b14d-2a15ed82912f"
      },
      "execution_count": 106,
      "outputs": [
        {
          "output_type": "stream",
          "name": "stdout",
          "text": [
            "True\n",
            "False\n"
          ]
        }
      ]
    },
    {
      "cell_type": "code",
      "source": [
        "# 108. Math Operations:\n",
        "def math_operations(a, b, c, operation):\n",
        "    def add(): return a + b + c\n",
        "    def subtract(): return a - b - c\n",
        "    def multiply(): return a * b * c\n",
        "    def divide(): return a / b / c if b and c != 0 else \"Error: Division by zero\"\n",
        "\n",
        "    operations = {'add': add, 'subtract': subtract, 'multiply': multiply, 'divide': divide}\n",
        "    return operations.get(operation, lambda: \"Invalid operation\")()\n",
        "\n",
        "print(math_operations(5, 3, 2, 'add'))\n",
        "print(math_operations(10, 5, 2, 'subtract'))\n"
      ],
      "metadata": {
        "id": "c4h7T_DUMTQC",
        "colab": {
          "base_uri": "https://localhost:8080/"
        },
        "outputId": "a7cdf01d-b653-48c8-bf39-4af3a64c4777"
      },
      "execution_count": 107,
      "outputs": [
        {
          "output_type": "stream",
          "name": "stdout",
          "text": [
            "10\n",
            "3\n"
          ]
        }
      ]
    },
    {
      "cell_type": "code",
      "source": [
        "# 109. Greeting Generator:\n",
        "def greeting_generator(name):\n",
        "    def greet(): return f\"Hello, {name}!\"\n",
        "    def ask_how(): return \"How are you today?\"\n",
        "\n",
        "    return greet() + \" \" + ask_how()\n",
        "\n",
        "print(greeting_generator(\"Alice\"))\n"
      ],
      "metadata": {
        "id": "VifXOIyKMTTo",
        "colab": {
          "base_uri": "https://localhost:8080/"
        },
        "outputId": "16d2a5b9-7161-4cfd-af6c-2951cbacef25"
      },
      "execution_count": 108,
      "outputs": [
        {
          "output_type": "stream",
          "name": "stdout",
          "text": [
            "Hello, Alice! How are you today?\n"
          ]
        }
      ]
    },
    {
      "cell_type": "code",
      "source": [
        "# 110. Temperature Converter:\n",
        "def temperature_converter(temp, scale):\n",
        "    def celsius_to_fahrenheit(): return (temp * 9/5) + 32\n",
        "    def fahrenheit_to_celsius(): return (temp - 32) * 5/9\n",
        "\n",
        "    if scale == 'C':\n",
        "        return celsius_to_fahrenheit()\n",
        "    elif scale == 'F':\n",
        "        return fahrenheit_to_celsius()\n",
        "    else:\n",
        "        return \"Invalid scale\"\n",
        "\n",
        "print(temperature_converter(100, 'C'))\n",
        "print(temperature_converter(32, 'F'))\n"
      ],
      "metadata": {
        "id": "ooehUb9JMTWh",
        "colab": {
          "base_uri": "https://localhost:8080/"
        },
        "outputId": "337bbda7-65c0-459a-b7c0-bc9b101e5471"
      },
      "execution_count": 109,
      "outputs": [
        {
          "output_type": "stream",
          "name": "stdout",
          "text": [
            "212.0\n",
            "0.0\n"
          ]
        }
      ]
    },
    {
      "cell_type": "code",
      "source": [
        "# 111. Factorial Calculation (Recursion):\n",
        "def factorial(n):\n",
        "    if n == 0:\n",
        "        return 1\n",
        "    else:\n",
        "        return n * factorial(n - 1)\n",
        "\n",
        "print(factorial(5))\n"
      ],
      "metadata": {
        "id": "PvVzpBkhMTZ-",
        "colab": {
          "base_uri": "https://localhost:8080/"
        },
        "outputId": "4acf2282-0144-48c1-bd32-c62f6b79aa91"
      },
      "execution_count": 110,
      "outputs": [
        {
          "output_type": "stream",
          "name": "stdout",
          "text": [
            "120\n"
          ]
        }
      ]
    },
    {
      "cell_type": "code",
      "source": [
        "# 112. Fibonacci Series (Recursion):\n",
        "def fibonacci(n):\n",
        "    if n <= 1:\n",
        "        return n\n",
        "    else:\n",
        "        return fibonacci(n-1) + fibonacci(n-2)\n",
        "\n",
        "print(fibonacci(5))\n"
      ],
      "metadata": {
        "id": "ibhyNFLHMTdG",
        "colab": {
          "base_uri": "https://localhost:8080/"
        },
        "outputId": "9227f62e-b3ad-44ec-dd08-f5ffad58a117"
      },
      "execution_count": 111,
      "outputs": [
        {
          "output_type": "stream",
          "name": "stdout",
          "text": [
            "5\n"
          ]
        }
      ]
    },
    {
      "cell_type": "code",
      "source": [
        "# 113. Sum of Digits (Recursion):\n",
        "def sum_of_digits(n):\n",
        "    if n == 0:\n",
        "        return 0\n",
        "    else:\n",
        "        return n % 10 + sum_of_digits(n // 10)\n",
        "\n",
        "print(sum_of_digits(123))\n"
      ],
      "metadata": {
        "id": "xA1UCwBZM6nX",
        "colab": {
          "base_uri": "https://localhost:8080/"
        },
        "outputId": "162e74bc-7df9-4e9b-f96e-0ef6f2bf4300"
      },
      "execution_count": 112,
      "outputs": [
        {
          "output_type": "stream",
          "name": "stdout",
          "text": [
            "6\n"
          ]
        }
      ]
    },
    {
      "cell_type": "code",
      "source": [
        "# 114. Binary Search (Recursion):\n",
        "def binary_search(arr, target, low, high):\n",
        "    if high >= low:\n",
        "        mid = (high + low) // 2\n",
        "        if arr[mid] == target:\n",
        "            return mid\n",
        "        elif arr[mid] > target:\n",
        "            return binary_search(arr, target, low, mid - 1)\n",
        "        else:\n",
        "            return binary_search(arr, target, mid + 1, high)\n",
        "    else:\n",
        "        return -1\n",
        "arr = [1, 2, 3, 4, 5, 6, 7, 8, 9]\n",
        "print(binary_search(arr, 5, 0, len(arr) - 1))"
      ],
      "metadata": {
        "id": "TAZEqeeUM6xG",
        "colab": {
          "base_uri": "https://localhost:8080/"
        },
        "outputId": "055baaf9-8091-4a78-a462-6f8b89602c46"
      },
      "execution_count": 113,
      "outputs": [
        {
          "output_type": "stream",
          "name": "stdout",
          "text": [
            "4\n"
          ]
        }
      ]
    },
    {
      "cell_type": "code",
      "source": [
        "# 115. Power Calculation (Recursion):\n",
        "def power(base, exponent):\n",
        "    if exponent == 0:\n",
        "        return 1\n",
        "    else:\n",
        "        return base * power(base, exponent - 1)\n",
        "print(power(2, 3))"
      ],
      "metadata": {
        "id": "sJVAOUrPMTgr",
        "colab": {
          "base_uri": "https://localhost:8080/"
        },
        "outputId": "85fc634c-03d5-46a1-d41c-917091fef96e"
      },
      "execution_count": 114,
      "outputs": [
        {
          "output_type": "stream",
          "name": "stdout",
          "text": [
            "8\n"
          ]
        }
      ]
    }
  ]
}